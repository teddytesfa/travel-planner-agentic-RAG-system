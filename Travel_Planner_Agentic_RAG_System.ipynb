{
  "cells": [
    {
      "cell_type": "markdown",
      "metadata": {
        "id": "JJHmRIZy4svX"
      },
      "source": [
        "# Building Eco-Friendly Trip Planner Agentic RAG System\n",
        "\n",
        "Retrieval Augmented Generation (RAG) systems combine the capabilities of data retrieval and generation models to provide context-aware responses.\n",
        "\n",
        "For example, a user’s query is passed to a search engine, and the retrieved results are given to the model along with the query. The model then generates a response based on the query and retrieved information.\n",
        "\n",
        "Agentic RAG (Retrieval-Augmented Generation) extends traditional RAG systems by combining autonomous agents with dynamic knowledge retrieval."
      ]
    },
    {
      "cell_type": "markdown",
      "metadata": {
        "id": "vNHb_Xna4x_3"
      },
      "source": [
        "## Let's install the required dependencies\n",
        "\n",
        "Install`smolagents` and `langchain` dependencies"
      ]
    },
    {
      "cell_type": "code",
      "execution_count": null,
      "metadata": {
        "id": "NRWw2n4S4Y87"
      },
      "outputs": [],
      "source": [
        "!pip install smolagents langchain-community rank_bm25 ddgs"
      ]
    },
    {
      "cell_type": "markdown",
      "source": [
        "## Section 1: Imports and Agent Setup"
      ],
      "metadata": {
        "id": "o55L_lyR4c6U"
      }
    },
    {
      "cell_type": "code",
      "source": [
        "from smolagents import CodeAgent, DuckDuckGoSearchTool, Tool, InferenceClientModel\n",
        "from langchain.docstore.document import Document\n",
        "from langchain.text_splitter import RecursiveCharacterTextSplitter\n",
        "from langchain_community.retrievers import BM25Retriever"
      ],
      "metadata": {
        "id": "e1m01Xep4T6K"
      },
      "execution_count": 3,
      "outputs": []
    },
    {
      "cell_type": "markdown",
      "source": [
        "## Section 2: DuckDuckGo Web Search for Travel Planning"
      ],
      "metadata": {
        "id": "1H_llWlh4wk3"
      }
    },
    {
      "cell_type": "code",
      "source": [
        "from google.colab import userdata\n",
        "\n",
        "search_tool = DuckDuckGoSearchTool()\n",
        "model = InferenceClientModel(model_id=\"Qwen/Qwen3-Coder-30B-A3B-Instruct\", provider=\"nebius\", api_key=userdata.get(\"HF_NEBIUS_API_KEY\"))\n",
        "\n",
        "agent = CodeAgent(\n",
        "    model=model,\n",
        "    tools=[search_tool],\n",
        ")\n",
        "\n",
        "query = (\n",
        "    \"Find popular eco-friendly travel destinations and sustainable activities in Ethiopia, \"\n",
        "    \"including nature reserves, eco-lodges, and cultural experiences.\"\n",
        ")\n",
        "\n",
        "response = agent.run(query)\n",
        "print(\"Web Search Agent Response:\\n\", response)"
      ],
      "metadata": {
        "colab": {
          "base_uri": "https://localhost:8080/",
          "height": 1000
        },
        "id": "omfLVd3844tn",
        "outputId": "9325ae90-c532-478d-8876-61722de5b6de"
      },
      "execution_count": 6,
      "outputs": [
        {
          "output_type": "display_data",
          "data": {
            "text/plain": [
              "\u001b[38;2;212;183;2m╭─\u001b[0m\u001b[38;2;212;183;2m───────────────────────────────────────────────────\u001b[0m\u001b[38;2;212;183;2m \u001b[0m\u001b[1;38;2;212;183;2mNew run\u001b[0m\u001b[38;2;212;183;2m \u001b[0m\u001b[38;2;212;183;2m───────────────────────────────────────────────────\u001b[0m\u001b[38;2;212;183;2m─╮\u001b[0m\n",
              "\u001b[38;2;212;183;2m│\u001b[0m                                                                                                                 \u001b[38;2;212;183;2m│\u001b[0m\n",
              "\u001b[38;2;212;183;2m│\u001b[0m \u001b[1mFind popular eco-friendly travel destinations and sustainable activities in Ethiopia, including nature \u001b[0m         \u001b[38;2;212;183;2m│\u001b[0m\n",
              "\u001b[38;2;212;183;2m│\u001b[0m \u001b[1mreserves, eco-lodges, and cultural experiences.\u001b[0m                                                                 \u001b[38;2;212;183;2m│\u001b[0m\n",
              "\u001b[38;2;212;183;2m│\u001b[0m                                                                                                                 \u001b[38;2;212;183;2m│\u001b[0m\n",
              "\u001b[38;2;212;183;2m╰─\u001b[0m\u001b[38;2;212;183;2m InferenceClientModel - Qwen/Qwen3-Coder-30B-A3B-Instruct \u001b[0m\u001b[38;2;212;183;2m─────────────────────────────────────────────────────\u001b[0m\u001b[38;2;212;183;2m─╯\u001b[0m\n"
            ],
            "text/html": [
              "<pre style=\"white-space:pre;overflow-x:auto;line-height:normal;font-family:Menlo,'DejaVu Sans Mono',consolas,'Courier New',monospace\"><span style=\"color: #d4b702; text-decoration-color: #d4b702\">╭──────────────────────────────────────────────────── </span><span style=\"color: #d4b702; text-decoration-color: #d4b702; font-weight: bold\">New run</span><span style=\"color: #d4b702; text-decoration-color: #d4b702\"> ────────────────────────────────────────────────────╮</span>\n",
              "<span style=\"color: #d4b702; text-decoration-color: #d4b702\">│</span>                                                                                                                 <span style=\"color: #d4b702; text-decoration-color: #d4b702\">│</span>\n",
              "<span style=\"color: #d4b702; text-decoration-color: #d4b702\">│</span> <span style=\"font-weight: bold\">Find popular eco-friendly travel destinations and sustainable activities in Ethiopia, including nature </span>         <span style=\"color: #d4b702; text-decoration-color: #d4b702\">│</span>\n",
              "<span style=\"color: #d4b702; text-decoration-color: #d4b702\">│</span> <span style=\"font-weight: bold\">reserves, eco-lodges, and cultural experiences.</span>                                                                 <span style=\"color: #d4b702; text-decoration-color: #d4b702\">│</span>\n",
              "<span style=\"color: #d4b702; text-decoration-color: #d4b702\">│</span>                                                                                                                 <span style=\"color: #d4b702; text-decoration-color: #d4b702\">│</span>\n",
              "<span style=\"color: #d4b702; text-decoration-color: #d4b702\">╰─ InferenceClientModel - Qwen/Qwen3-Coder-30B-A3B-Instruct ──────────────────────────────────────────────────────╯</span>\n",
              "</pre>\n"
            ]
          },
          "metadata": {}
        },
        {
          "output_type": "display_data",
          "data": {
            "text/plain": [
              "\u001b[38;2;212;183;2m━━━━━━━━━━━━━━━━━━━━━━━━━━━━━━━━━━━━━━━━━━━━━━━━━━━━━ \u001b[0m\u001b[1mStep 1\u001b[0m\u001b[38;2;212;183;2m ━━━━━━━━━━━━━━━━━━━━━━━━━━━━━━━━━━━━━━━━━━━━━━━━━━━━━━\u001b[0m\n"
            ],
            "text/html": [
              "<pre style=\"white-space:pre;overflow-x:auto;line-height:normal;font-family:Menlo,'DejaVu Sans Mono',consolas,'Courier New',monospace\"><span style=\"color: #d4b702; text-decoration-color: #d4b702\">━━━━━━━━━━━━━━━━━━━━━━━━━━━━━━━━━━━━━━━━━━━━━━━━━━━━━ </span><span style=\"font-weight: bold\">Step 1</span><span style=\"color: #d4b702; text-decoration-color: #d4b702\"> ━━━━━━━━━━━━━━━━━━━━━━━━━━━━━━━━━━━━━━━━━━━━━━━━━━━━━━</span>\n",
              "</pre>\n"
            ]
          },
          "metadata": {}
        },
        {
          "output_type": "stream",
          "name": "stderr",
          "text": [
            "/usr/local/lib/python3.12/dist-packages/huggingface_hub/utils/_auth.py:86: UserWarning: \n",
            "Access to the secret `HF_TOKEN` has not been granted on this notebook.\n",
            "You will not be requested again.\n",
            "Please restart the session if you want to be prompted again.\n",
            "  warnings.warn(\n"
          ]
        },
        {
          "output_type": "display_data",
          "data": {
            "text/plain": [
              " ─ \u001b[1mExecuting parsed code:\u001b[0m ──────────────────────────────────────────────────────────────────────────────────────── \n",
              "  \u001b[38;2;248;248;242;48;2;39;40;34mdestinations\u001b[0m\u001b[38;2;248;248;242;48;2;39;40;34m \u001b[0m\u001b[38;2;255;70;137;48;2;39;40;34m=\u001b[0m\u001b[38;2;248;248;242;48;2;39;40;34m \u001b[0m\u001b[38;2;248;248;242;48;2;39;40;34mweb_search\u001b[0m\u001b[38;2;248;248;242;48;2;39;40;34m(\u001b[0m\u001b[38;2;230;219;116;48;2;39;40;34m\"\u001b[0m\u001b[38;2;230;219;116;48;2;39;40;34meco-friendly travel destinations Ethiopia\u001b[0m\u001b[38;2;230;219;116;48;2;39;40;34m\"\u001b[0m\u001b[38;2;248;248;242;48;2;39;40;34m)\u001b[0m\u001b[48;2;39;40;34m                                         \u001b[0m  \n",
              "  \u001b[38;2;248;248;242;48;2;39;40;34mprint\u001b[0m\u001b[38;2;248;248;242;48;2;39;40;34m(\u001b[0m\u001b[38;2;230;219;116;48;2;39;40;34m\"\u001b[0m\u001b[38;2;230;219;116;48;2;39;40;34mEco-friendly destinations in Ethiopia:\u001b[0m\u001b[38;2;230;219;116;48;2;39;40;34m\"\u001b[0m\u001b[38;2;248;248;242;48;2;39;40;34m)\u001b[0m\u001b[48;2;39;40;34m                                                                \u001b[0m  \n",
              "  \u001b[38;2;248;248;242;48;2;39;40;34mprint\u001b[0m\u001b[38;2;248;248;242;48;2;39;40;34m(\u001b[0m\u001b[38;2;248;248;242;48;2;39;40;34mdestinations\u001b[0m\u001b[38;2;248;248;242;48;2;39;40;34m)\u001b[0m\u001b[48;2;39;40;34m                                                                                            \u001b[0m  \n",
              " ───────────────────────────────────────────────────────────────────────────────────────────────────────────────── \n"
            ],
            "text/html": [
              "<pre style=\"white-space:pre;overflow-x:auto;line-height:normal;font-family:Menlo,'DejaVu Sans Mono',consolas,'Courier New',monospace\"> ─ <span style=\"font-weight: bold\">Executing parsed code:</span> ──────────────────────────────────────────────────────────────────────────────────────── \n",
              "  <span style=\"color: #f8f8f2; text-decoration-color: #f8f8f2; background-color: #272822\">destinations </span><span style=\"color: #ff4689; text-decoration-color: #ff4689; background-color: #272822\">=</span><span style=\"color: #f8f8f2; text-decoration-color: #f8f8f2; background-color: #272822\"> web_search(</span><span style=\"color: #e6db74; text-decoration-color: #e6db74; background-color: #272822\">\"eco-friendly travel destinations Ethiopia\"</span><span style=\"color: #f8f8f2; text-decoration-color: #f8f8f2; background-color: #272822\">)</span><span style=\"background-color: #272822\">                                         </span>  \n",
              "  <span style=\"color: #f8f8f2; text-decoration-color: #f8f8f2; background-color: #272822\">print(</span><span style=\"color: #e6db74; text-decoration-color: #e6db74; background-color: #272822\">\"Eco-friendly destinations in Ethiopia:\"</span><span style=\"color: #f8f8f2; text-decoration-color: #f8f8f2; background-color: #272822\">)</span><span style=\"background-color: #272822\">                                                                </span>  \n",
              "  <span style=\"color: #f8f8f2; text-decoration-color: #f8f8f2; background-color: #272822\">print(destinations)</span><span style=\"background-color: #272822\">                                                                                            </span>  \n",
              " ───────────────────────────────────────────────────────────────────────────────────────────────────────────────── \n",
              "</pre>\n"
            ]
          },
          "metadata": {}
        },
        {
          "output_type": "display_data",
          "data": {
            "text/plain": [
              "\u001b[1mExecution logs:\u001b[0m\n",
              "Eco-friendly destinations in Ethiopia:\n",
              "## Search Results\n",
              "\n",
              "[Ecotravel Ethiopia Tours and Car Rental : Eco Travel Ethiopia Tours and \n",
              "...](https://www.ecotravelethiopia.com/blog/10-simple-ways-to-travel-sustainably-in-ethiopia)\n",
              "2025-09-04 From minimizing plastic use to choosing eco -lodges, this guide helps you travel responsibly in Ethiopia\n",
              ". Learn how to reduce your environmental footprint, respect local cultures, and contribute to community development\n",
              "while enjoying unforgettable experiences.\n",
              "\n",
              "[Ethiopia's Eco-Friendly Highlands and Cultural \n",
              "Hotspots](https://greentravellist.com/green-travel-destinations/green-travel-to-ethiopia/)\n",
              "Eco-friendly accommodations and transportation options, like solar-powered lodges and bamboo bikes, reduce \n",
              "environmental impact and support community development. Introduction Ethiopia's highlands offer you a chance to \n",
              "explore diverse ecosystems that host unique biodiversity hotspots.\n",
              "\n",
              "[Eco-Friendly Adventures in Ethiopia: A Sustainable \n",
              "Journey](https://tanianethiopiatours.com/eco-friendly-tours-adventures-in-ethiopia-a-sustainable-journey/)\n",
              "Embark on a sustainable journey with our eco-friendly adventures in Ethiopia . Explore nature responsibly and \n",
              "support local communities.\n",
              "\n",
              "[Sustainable Travel in Ethiopia - Eco-Lodges & Tours | Tour Hub \n",
              "Ethiopia](https://tourhubethiopia.com/sustainable-travel-in-ethiopia/)\n",
              "Sustainable travel in Ethiopia is becoming increasingly popular as travelers seek to explore responsibly. From eco \n",
              "-lodges in the highlands to community-based cultural tours, Ethiopia offers unique ways to experience its natural \n",
              "beauty and heritage while supporting local people and protecting the environment.\n",
              "\n",
              "[The Most Authentic Eco-Tours in Ethiopia | Ethical Ethiopian Experiences](https://www.ethicalethiopia.com/)\n",
              "We design exclusive, immersive travel experiences that take you beyond typical tourist routes, connecting you with \n",
              "Ethiopia's rich cultures and landscapes. Through long-standing relationships—especially with the Hamar tribe—we \n",
              "offer unique access and meaningful experiences that directly support local communities and protect the environment.\n",
              "Join us and help shape the future of ethical ...\n",
              "\n",
              "[THE 15 BEST Ethiopia Eco Tours (with Prices) - \n",
              "Tripadvisor](https://www.tripadvisor.com/Attractions-g293790-Activities-c61-t216-Ethiopia.html)\n",
              "Escape the city bustle and immerse yourself in a pristine natural wonderland with Ecotravel Ethiopia's Mount Wenchi\n",
              "Eco -…\n",
              "\n",
              "[Eco-Lodges - tripsethiopia.com](https://www.tripsethiopia.com/2024/10/eco-lodges.html)\n",
              "Ethiopia , a country renowned for its ancient history and diverse landscapes, offers a unique opportunity for \n",
              "travellers to experience sustainable tourism through its eco -lodges. These environmentally friendly accommodations\n",
              "provide a comfortable and immersive stay while minimizing their impact on the local environment.\n",
              "\n",
              "[Sustainable Travel with Sabeans Ethiopia Tours: Eco-Friendly Journeys \n",
              "...](https://sabeansethiopiatours.com/sustainable-travel-tips-and-destinations-for-eco-friendly-explorations/)\n",
              "At Sabeans Ethiopia Tours, we believe in exploring Ethiopia's rich history, vibrant culture, and breathtaking \n",
              "landscapes while preserving its natural and cultural heritage. As advocates of sustainable and responsible tourism,\n",
              "we invite you to join us in discovering Ethiopia through eco-friendly practices and meaningful experiences that \n",
              "leave a positive impact.\n",
              "\n",
              "[MOST Eco-friendly Tours & Trip Packages in Ethiopia 2025/2026 - \n",
              "Bookmundi](https://www.bookmundi.com/s/ethiopia-eco-tours)\n",
              "The best eco tours in Ethiopia . Below you will see 10+ eco tours through Ethiopia that are all carbon offset. \n",
              "Bookmundi offsets the CO2 footprint on behalf of all the multiday tour companies that we work in Ethiopia by \n",
              "investing in wind, solar and tree planting projects around the world. In the future, we will continue to make our \n",
              "tours in Bolivia more sustainable and climate- friendly .\n",
              "\n",
              "[Ethiopian Vegan Adventure: Eco-Tourism & Plant-Based \n",
              "Delights](https://www.simienecotours.com/vegetarian-vegan-culinary-eco-tourism-ethiopia/)\n",
              "Discover Ethiopia's rich culture, history, and landscapes on a 12-day vegan adventure with SimienEcoTours. Enjoy \n",
              "plant-based meals, eco-friendly accommodations, and sustainable travel experiences in Addis Ababa, Gondar, \n",
              "Lalibela, and beyond. Explore Ethiopian vegan cuisine and ethical tourism.\n",
              "\n",
              "Out: None\n"
            ],
            "text/html": [
              "<pre style=\"white-space:pre;overflow-x:auto;line-height:normal;font-family:Menlo,'DejaVu Sans Mono',consolas,'Courier New',monospace\"><span style=\"font-weight: bold\">Execution logs:</span>\n",
              "Eco-friendly destinations in Ethiopia:\n",
              "## Search Results\n",
              "\n",
              "[Ecotravel Ethiopia Tours and Car Rental : Eco Travel Ethiopia Tours and \n",
              "...](https://www.ecotravelethiopia.com/blog/10-simple-ways-to-travel-sustainably-in-ethiopia)\n",
              "2025-09-04 From minimizing plastic use to choosing eco -lodges, this guide helps you travel responsibly in Ethiopia\n",
              ". Learn how to reduce your environmental footprint, respect local cultures, and contribute to community development\n",
              "while enjoying unforgettable experiences.\n",
              "\n",
              "[Ethiopia's Eco-Friendly Highlands and Cultural \n",
              "Hotspots](https://greentravellist.com/green-travel-destinations/green-travel-to-ethiopia/)\n",
              "Eco-friendly accommodations and transportation options, like solar-powered lodges and bamboo bikes, reduce \n",
              "environmental impact and support community development. Introduction Ethiopia's highlands offer you a chance to \n",
              "explore diverse ecosystems that host unique biodiversity hotspots.\n",
              "\n",
              "[Eco-Friendly Adventures in Ethiopia: A Sustainable \n",
              "Journey](https://tanianethiopiatours.com/eco-friendly-tours-adventures-in-ethiopia-a-sustainable-journey/)\n",
              "Embark on a sustainable journey with our eco-friendly adventures in Ethiopia . Explore nature responsibly and \n",
              "support local communities.\n",
              "\n",
              "[Sustainable Travel in Ethiopia - Eco-Lodges &amp; Tours | Tour Hub \n",
              "Ethiopia](https://tourhubethiopia.com/sustainable-travel-in-ethiopia/)\n",
              "Sustainable travel in Ethiopia is becoming increasingly popular as travelers seek to explore responsibly. From eco \n",
              "-lodges in the highlands to community-based cultural tours, Ethiopia offers unique ways to experience its natural \n",
              "beauty and heritage while supporting local people and protecting the environment.\n",
              "\n",
              "[The Most Authentic Eco-Tours in Ethiopia | Ethical Ethiopian Experiences](https://www.ethicalethiopia.com/)\n",
              "We design exclusive, immersive travel experiences that take you beyond typical tourist routes, connecting you with \n",
              "Ethiopia's rich cultures and landscapes. Through long-standing relationships—especially with the Hamar tribe—we \n",
              "offer unique access and meaningful experiences that directly support local communities and protect the environment.\n",
              "Join us and help shape the future of ethical ...\n",
              "\n",
              "[THE 15 BEST Ethiopia Eco Tours (with Prices) - \n",
              "Tripadvisor](https://www.tripadvisor.com/Attractions-g293790-Activities-c61-t216-Ethiopia.html)\n",
              "Escape the city bustle and immerse yourself in a pristine natural wonderland with Ecotravel Ethiopia's Mount Wenchi\n",
              "Eco -…\n",
              "\n",
              "[Eco-Lodges - tripsethiopia.com](https://www.tripsethiopia.com/2024/10/eco-lodges.html)\n",
              "Ethiopia , a country renowned for its ancient history and diverse landscapes, offers a unique opportunity for \n",
              "travellers to experience sustainable tourism through its eco -lodges. These environmentally friendly accommodations\n",
              "provide a comfortable and immersive stay while minimizing their impact on the local environment.\n",
              "\n",
              "[Sustainable Travel with Sabeans Ethiopia Tours: Eco-Friendly Journeys \n",
              "...](https://sabeansethiopiatours.com/sustainable-travel-tips-and-destinations-for-eco-friendly-explorations/)\n",
              "At Sabeans Ethiopia Tours, we believe in exploring Ethiopia's rich history, vibrant culture, and breathtaking \n",
              "landscapes while preserving its natural and cultural heritage. As advocates of sustainable and responsible tourism,\n",
              "we invite you to join us in discovering Ethiopia through eco-friendly practices and meaningful experiences that \n",
              "leave a positive impact.\n",
              "\n",
              "[MOST Eco-friendly Tours &amp; Trip Packages in Ethiopia 2025/2026 - \n",
              "Bookmundi](https://www.bookmundi.com/s/ethiopia-eco-tours)\n",
              "The best eco tours in Ethiopia . Below you will see 10+ eco tours through Ethiopia that are all carbon offset. \n",
              "Bookmundi offsets the CO2 footprint on behalf of all the multiday tour companies that we work in Ethiopia by \n",
              "investing in wind, solar and tree planting projects around the world. In the future, we will continue to make our \n",
              "tours in Bolivia more sustainable and climate- friendly .\n",
              "\n",
              "[Ethiopian Vegan Adventure: Eco-Tourism &amp; Plant-Based \n",
              "Delights](https://www.simienecotours.com/vegetarian-vegan-culinary-eco-tourism-ethiopia/)\n",
              "Discover Ethiopia's rich culture, history, and landscapes on a 12-day vegan adventure with SimienEcoTours. Enjoy \n",
              "plant-based meals, eco-friendly accommodations, and sustainable travel experiences in Addis Ababa, Gondar, \n",
              "Lalibela, and beyond. Explore Ethiopian vegan cuisine and ethical tourism.\n",
              "\n",
              "Out: None\n",
              "</pre>\n"
            ]
          },
          "metadata": {}
        },
        {
          "output_type": "display_data",
          "data": {
            "text/plain": [
              "\u001b[2m[Step 1: Duration 3.58 seconds| Input tokens: 2,100 | Output tokens: 74]\u001b[0m\n"
            ],
            "text/html": [
              "<pre style=\"white-space:pre;overflow-x:auto;line-height:normal;font-family:Menlo,'DejaVu Sans Mono',consolas,'Courier New',monospace\"><span style=\"color: #7f7f7f; text-decoration-color: #7f7f7f\">[Step 1: Duration 3.58 seconds| Input tokens: 2,100 | Output tokens: 74]</span>\n",
              "</pre>\n"
            ]
          },
          "metadata": {}
        },
        {
          "output_type": "display_data",
          "data": {
            "text/plain": [
              "\u001b[38;2;212;183;2m━━━━━━━━━━━━━━━━━━━━━━━━━━━━━━━━━━━━━━━━━━━━━━━━━━━━━ \u001b[0m\u001b[1mStep 2\u001b[0m\u001b[38;2;212;183;2m ━━━━━━━━━━━━━━━━━━━━━━━━━━━━━━━━━━━━━━━━━━━━━━━━━━━━━━\u001b[0m\n"
            ],
            "text/html": [
              "<pre style=\"white-space:pre;overflow-x:auto;line-height:normal;font-family:Menlo,'DejaVu Sans Mono',consolas,'Courier New',monospace\"><span style=\"color: #d4b702; text-decoration-color: #d4b702\">━━━━━━━━━━━━━━━━━━━━━━━━━━━━━━━━━━━━━━━━━━━━━━━━━━━━━ </span><span style=\"font-weight: bold\">Step 2</span><span style=\"color: #d4b702; text-decoration-color: #d4b702\"> ━━━━━━━━━━━━━━━━━━━━━━━━━━━━━━━━━━━━━━━━━━━━━━━━━━━━━━</span>\n",
              "</pre>\n"
            ]
          },
          "metadata": {}
        },
        {
          "output_type": "display_data",
          "data": {
            "text/plain": [
              " ─ \u001b[1mExecuting parsed code:\u001b[0m ──────────────────────────────────────────────────────────────────────────────────────── \n",
              "  \u001b[38;2;248;248;242;48;2;39;40;34mnature_reserves\u001b[0m\u001b[38;2;248;248;242;48;2;39;40;34m \u001b[0m\u001b[38;2;255;70;137;48;2;39;40;34m=\u001b[0m\u001b[38;2;248;248;242;48;2;39;40;34m \u001b[0m\u001b[38;2;248;248;242;48;2;39;40;34mweb_search\u001b[0m\u001b[38;2;248;248;242;48;2;39;40;34m(\u001b[0m\u001b[38;2;230;219;116;48;2;39;40;34m\"\u001b[0m\u001b[38;2;230;219;116;48;2;39;40;34mEthiopia nature reserves eco lodges\u001b[0m\u001b[38;2;230;219;116;48;2;39;40;34m\"\u001b[0m\u001b[38;2;248;248;242;48;2;39;40;34m)\u001b[0m\u001b[48;2;39;40;34m                                            \u001b[0m  \n",
              "  \u001b[38;2;248;248;242;48;2;39;40;34mprint\u001b[0m\u001b[38;2;248;248;242;48;2;39;40;34m(\u001b[0m\u001b[38;2;230;219;116;48;2;39;40;34m\"\u001b[0m\u001b[38;2;230;219;116;48;2;39;40;34mNature reserves and eco lodges in Ethiopia:\u001b[0m\u001b[38;2;230;219;116;48;2;39;40;34m\"\u001b[0m\u001b[38;2;248;248;242;48;2;39;40;34m)\u001b[0m\u001b[48;2;39;40;34m                                                           \u001b[0m  \n",
              "  \u001b[38;2;248;248;242;48;2;39;40;34mprint\u001b[0m\u001b[38;2;248;248;242;48;2;39;40;34m(\u001b[0m\u001b[38;2;248;248;242;48;2;39;40;34mnature_reserves\u001b[0m\u001b[38;2;248;248;242;48;2;39;40;34m)\u001b[0m\u001b[48;2;39;40;34m                                                                                         \u001b[0m  \n",
              " ───────────────────────────────────────────────────────────────────────────────────────────────────────────────── \n"
            ],
            "text/html": [
              "<pre style=\"white-space:pre;overflow-x:auto;line-height:normal;font-family:Menlo,'DejaVu Sans Mono',consolas,'Courier New',monospace\"> ─ <span style=\"font-weight: bold\">Executing parsed code:</span> ──────────────────────────────────────────────────────────────────────────────────────── \n",
              "  <span style=\"color: #f8f8f2; text-decoration-color: #f8f8f2; background-color: #272822\">nature_reserves </span><span style=\"color: #ff4689; text-decoration-color: #ff4689; background-color: #272822\">=</span><span style=\"color: #f8f8f2; text-decoration-color: #f8f8f2; background-color: #272822\"> web_search(</span><span style=\"color: #e6db74; text-decoration-color: #e6db74; background-color: #272822\">\"Ethiopia nature reserves eco lodges\"</span><span style=\"color: #f8f8f2; text-decoration-color: #f8f8f2; background-color: #272822\">)</span><span style=\"background-color: #272822\">                                            </span>  \n",
              "  <span style=\"color: #f8f8f2; text-decoration-color: #f8f8f2; background-color: #272822\">print(</span><span style=\"color: #e6db74; text-decoration-color: #e6db74; background-color: #272822\">\"Nature reserves and eco lodges in Ethiopia:\"</span><span style=\"color: #f8f8f2; text-decoration-color: #f8f8f2; background-color: #272822\">)</span><span style=\"background-color: #272822\">                                                           </span>  \n",
              "  <span style=\"color: #f8f8f2; text-decoration-color: #f8f8f2; background-color: #272822\">print(nature_reserves)</span><span style=\"background-color: #272822\">                                                                                         </span>  \n",
              " ───────────────────────────────────────────────────────────────────────────────────────────────────────────────── \n",
              "</pre>\n"
            ]
          },
          "metadata": {}
        },
        {
          "output_type": "display_data",
          "data": {
            "text/plain": [
              "\u001b[1mExecution logs:\u001b[0m\n",
              "Nature reserves and eco lodges in Ethiopia:\n",
              "## Search Results\n",
              "\n",
              "[The 21 Best Hotels And Lodges In \n",
              "Ethiopia](https://kubwafive-safaris.com/the-21-best-hotels-and-lodges-in-ethiopia/)\n",
              "12. Bale Mountain Lodge . A rare eco-lodge nestled in the wild Bale Mountains National Park, this lodge offers rich\n",
              "biodiversity alongside refined comfort. Here ...\n",
              "\n",
              "[Tribal Life Eco Lodge: Experience Eco Luxury at](https://triballifeecolodge.com/)\n",
              "Remote and yet easily accessible, Tribal Life Ecolodge is the first and only lodge located inside a tribal village \n",
              "in Ethiopia.\n",
              "\n",
              "[HARA LANGANO ECO LODGE - Reviews \n",
              "(Ethiopia)](https://www.tripadvisor.com/Hotel_Review-g2214573-d7700017-Reviews-or10-Hara_Langano_Eco_Lodge-Langano_\n",
              "Oromiya_Region.html)\n",
              "Hara Langano eco lodge nestled on the shore of Lake Langano is a self-contained retreat where you can enjoy fine \n",
              "food & drinks and observe abundant wildlife.\n",
              "\n",
              "[Befiker Kossoye Ecology \n",
              "Lodge](https://www.adventure-life.com/africa/ethiopia/hotels/befiker-kossoye-ecology-lodge)\n",
              "Befiker Kossoye Eco Lodge is located 30km away from the medieval city of Gondar. With breathtaking views of the \n",
              "Semien mountains and Kossoye hills.\n",
              "\n",
              "[Ethiopia and Wenchi Lake nature \n",
              "reserve](https://www.greenprophet.com/2024/05/wenchi-nature-reserve-and-lake-ethiopia/)\n",
              "May 3, 2024 — Noticeable from a lookout point overseeing the lake was a new so-called eco - resort , not yet \n",
              "operating, but built by Ethiopian Airlines. With so ...\n",
              "\n",
              "[Halala Kela Eco Lodge in Ethiopia's Dawero Zone \n",
              "offers](https://www.facebook.com/groups/bigtravelbazarbtb/posts/2509362919428036/)\n",
              "Experiences Await: ✓ Guided Nature Walks: Explore biodiverse trails with resident naturalists to spot endemic \n",
              "birds, monkeys, and rare flora. ✓ ...\n",
              "\n",
              "[Bishangari Lodge - Ethiopia - National Parks in \n",
              "Africa](https://www.nationalparks.africa/listing/bishangari-lodge/)\n",
              "Bishangari Lodge - Escape to Bishangari Eco-Lodge , a secluded oasis nestled in the heart of Ethiopia's Rift \n",
              "Valley. Only a short drive from Addis Ababa,\n",
              "\n",
              "[Boutique and Eco Lodges in Ethiopia](https://www.brilliant-ethiopia.com/hotels/boutique-eco)\n",
              "From the rustic cabin-esque rooms perched atop the plateaus of rural Tigray at Gheralta Lodge , to the peaceful \n",
              "bamboo tukuls of Aregash Lodge.\n",
              "\n",
              "[Embark on a Journey of Wonder at Wanchi Ija Eco Lodge ...](https://www.wanchi-ija.com/)\n",
              "The lodge is on the picturesque Wanchi Crater Lake and features charming chalets that offer stunning views of the \n",
              "unspoiled lake. Visitors can take guided tours ...\n",
              "\n",
              "[Paradise Lodge Arbaminch](https://piperandheath.com/ethiopia-paradise-lodge-arbaminch/)\n",
              "Located in Ethiopia's beautiful and verdant Great Rift Valley , Paradise Lodge Arbaminch is an award-winning \n",
              "eco-lodge.\n",
              "\n",
              "Out: None\n"
            ],
            "text/html": [
              "<pre style=\"white-space:pre;overflow-x:auto;line-height:normal;font-family:Menlo,'DejaVu Sans Mono',consolas,'Courier New',monospace\"><span style=\"font-weight: bold\">Execution logs:</span>\n",
              "Nature reserves and eco lodges in Ethiopia:\n",
              "## Search Results\n",
              "\n",
              "[The 21 Best Hotels And Lodges In \n",
              "Ethiopia](https://kubwafive-safaris.com/the-21-best-hotels-and-lodges-in-ethiopia/)\n",
              "12. Bale Mountain Lodge . A rare eco-lodge nestled in the wild Bale Mountains National Park, this lodge offers rich\n",
              "biodiversity alongside refined comfort. Here ...\n",
              "\n",
              "[Tribal Life Eco Lodge: Experience Eco Luxury at](https://triballifeecolodge.com/)\n",
              "Remote and yet easily accessible, Tribal Life Ecolodge is the first and only lodge located inside a tribal village \n",
              "in Ethiopia.\n",
              "\n",
              "[HARA LANGANO ECO LODGE - Reviews \n",
              "(Ethiopia)](https://www.tripadvisor.com/Hotel_Review-g2214573-d7700017-Reviews-or10-Hara_Langano_Eco_Lodge-Langano_\n",
              "Oromiya_Region.html)\n",
              "Hara Langano eco lodge nestled on the shore of Lake Langano is a self-contained retreat where you can enjoy fine \n",
              "food &amp; drinks and observe abundant wildlife.\n",
              "\n",
              "[Befiker Kossoye Ecology \n",
              "Lodge](https://www.adventure-life.com/africa/ethiopia/hotels/befiker-kossoye-ecology-lodge)\n",
              "Befiker Kossoye Eco Lodge is located 30km away from the medieval city of Gondar. With breathtaking views of the \n",
              "Semien mountains and Kossoye hills.\n",
              "\n",
              "[Ethiopia and Wenchi Lake nature \n",
              "reserve](https://www.greenprophet.com/2024/05/wenchi-nature-reserve-and-lake-ethiopia/)\n",
              "May 3, 2024 — Noticeable from a lookout point overseeing the lake was a new so-called eco - resort , not yet \n",
              "operating, but built by Ethiopian Airlines. With so ...\n",
              "\n",
              "[Halala Kela Eco Lodge in Ethiopia's Dawero Zone \n",
              "offers](https://www.facebook.com/groups/bigtravelbazarbtb/posts/2509362919428036/)\n",
              "Experiences Await: ✓ Guided Nature Walks: Explore biodiverse trails with resident naturalists to spot endemic \n",
              "birds, monkeys, and rare flora. ✓ ...\n",
              "\n",
              "[Bishangari Lodge - Ethiopia - National Parks in \n",
              "Africa](https://www.nationalparks.africa/listing/bishangari-lodge/)\n",
              "Bishangari Lodge - Escape to Bishangari Eco-Lodge , a secluded oasis nestled in the heart of Ethiopia's Rift \n",
              "Valley. Only a short drive from Addis Ababa,\n",
              "\n",
              "[Boutique and Eco Lodges in Ethiopia](https://www.brilliant-ethiopia.com/hotels/boutique-eco)\n",
              "From the rustic cabin-esque rooms perched atop the plateaus of rural Tigray at Gheralta Lodge , to the peaceful \n",
              "bamboo tukuls of Aregash Lodge.\n",
              "\n",
              "[Embark on a Journey of Wonder at Wanchi Ija Eco Lodge ...](https://www.wanchi-ija.com/)\n",
              "The lodge is on the picturesque Wanchi Crater Lake and features charming chalets that offer stunning views of the \n",
              "unspoiled lake. Visitors can take guided tours ...\n",
              "\n",
              "[Paradise Lodge Arbaminch](https://piperandheath.com/ethiopia-paradise-lodge-arbaminch/)\n",
              "Located in Ethiopia's beautiful and verdant Great Rift Valley , Paradise Lodge Arbaminch is an award-winning \n",
              "eco-lodge.\n",
              "\n",
              "Out: None\n",
              "</pre>\n"
            ]
          },
          "metadata": {}
        },
        {
          "output_type": "display_data",
          "data": {
            "text/plain": [
              "\u001b[2m[Step 2: Duration 2.31 seconds| Input tokens: 5,295 | Output tokens: 129]\u001b[0m\n"
            ],
            "text/html": [
              "<pre style=\"white-space:pre;overflow-x:auto;line-height:normal;font-family:Menlo,'DejaVu Sans Mono',consolas,'Courier New',monospace\"><span style=\"color: #7f7f7f; text-decoration-color: #7f7f7f\">[Step 2: Duration 2.31 seconds| Input tokens: 5,295 | Output tokens: 129]</span>\n",
              "</pre>\n"
            ]
          },
          "metadata": {}
        },
        {
          "output_type": "display_data",
          "data": {
            "text/plain": [
              "\u001b[38;2;212;183;2m━━━━━━━━━━━━━━━━━━━━━━━━━━━━━━━━━━━━━━━━━━━━━━━━━━━━━ \u001b[0m\u001b[1mStep 3\u001b[0m\u001b[38;2;212;183;2m ━━━━━━━━━━━━━━━━━━━━━━━━━━━━━━━━━━━━━━━━━━━━━━━━━━━━━━\u001b[0m\n"
            ],
            "text/html": [
              "<pre style=\"white-space:pre;overflow-x:auto;line-height:normal;font-family:Menlo,'DejaVu Sans Mono',consolas,'Courier New',monospace\"><span style=\"color: #d4b702; text-decoration-color: #d4b702\">━━━━━━━━━━━━━━━━━━━━━━━━━━━━━━━━━━━━━━━━━━━━━━━━━━━━━ </span><span style=\"font-weight: bold\">Step 3</span><span style=\"color: #d4b702; text-decoration-color: #d4b702\"> ━━━━━━━━━━━━━━━━━━━━━━━━━━━━━━━━━━━━━━━━━━━━━━━━━━━━━━</span>\n",
              "</pre>\n"
            ]
          },
          "metadata": {}
        },
        {
          "output_type": "display_data",
          "data": {
            "text/plain": [
              " ─ \u001b[1mExecuting parsed code:\u001b[0m ──────────────────────────────────────────────────────────────────────────────────────── \n",
              "  \u001b[38;2;248;248;242;48;2;39;40;34mcultural_experiences\u001b[0m\u001b[38;2;248;248;242;48;2;39;40;34m \u001b[0m\u001b[38;2;255;70;137;48;2;39;40;34m=\u001b[0m\u001b[38;2;248;248;242;48;2;39;40;34m \u001b[0m\u001b[38;2;248;248;242;48;2;39;40;34mweb_search\u001b[0m\u001b[38;2;248;248;242;48;2;39;40;34m(\u001b[0m\u001b[38;2;230;219;116;48;2;39;40;34m\"\u001b[0m\u001b[38;2;230;219;116;48;2;39;40;34mEthiopia sustainable cultural experiences community tourism\u001b[0m\u001b[38;2;230;219;116;48;2;39;40;34m\"\u001b[0m\u001b[38;2;248;248;242;48;2;39;40;34m)\u001b[0m\u001b[48;2;39;40;34m               \u001b[0m  \n",
              "  \u001b[38;2;248;248;242;48;2;39;40;34mprint\u001b[0m\u001b[38;2;248;248;242;48;2;39;40;34m(\u001b[0m\u001b[38;2;230;219;116;48;2;39;40;34m\"\u001b[0m\u001b[38;2;230;219;116;48;2;39;40;34mCultural experiences and community tourism in Ethiopia:\u001b[0m\u001b[38;2;230;219;116;48;2;39;40;34m\"\u001b[0m\u001b[38;2;248;248;242;48;2;39;40;34m)\u001b[0m\u001b[48;2;39;40;34m                                               \u001b[0m  \n",
              "  \u001b[38;2;248;248;242;48;2;39;40;34mprint\u001b[0m\u001b[38;2;248;248;242;48;2;39;40;34m(\u001b[0m\u001b[38;2;248;248;242;48;2;39;40;34mcultural_experiences\u001b[0m\u001b[38;2;248;248;242;48;2;39;40;34m)\u001b[0m\u001b[48;2;39;40;34m                                                                                    \u001b[0m  \n",
              "  \u001b[38;2;255;70;137;48;2;39;40;34m<\u001b[0m\u001b[38;2;255;70;137;48;2;39;40;34m/\u001b[0m\u001b[38;2;248;248;242;48;2;39;40;34mcode\u001b[0m\u001b[38;2;248;248;242;48;2;39;40;34m]\u001b[0m\u001b[48;2;39;40;34m                                                                                                        \u001b[0m  \n",
              " ───────────────────────────────────────────────────────────────────────────────────────────────────────────────── \n"
            ],
            "text/html": [
              "<pre style=\"white-space:pre;overflow-x:auto;line-height:normal;font-family:Menlo,'DejaVu Sans Mono',consolas,'Courier New',monospace\"> ─ <span style=\"font-weight: bold\">Executing parsed code:</span> ──────────────────────────────────────────────────────────────────────────────────────── \n",
              "  <span style=\"color: #f8f8f2; text-decoration-color: #f8f8f2; background-color: #272822\">cultural_experiences </span><span style=\"color: #ff4689; text-decoration-color: #ff4689; background-color: #272822\">=</span><span style=\"color: #f8f8f2; text-decoration-color: #f8f8f2; background-color: #272822\"> web_search(</span><span style=\"color: #e6db74; text-decoration-color: #e6db74; background-color: #272822\">\"Ethiopia sustainable cultural experiences community tourism\"</span><span style=\"color: #f8f8f2; text-decoration-color: #f8f8f2; background-color: #272822\">)</span><span style=\"background-color: #272822\">               </span>  \n",
              "  <span style=\"color: #f8f8f2; text-decoration-color: #f8f8f2; background-color: #272822\">print(</span><span style=\"color: #e6db74; text-decoration-color: #e6db74; background-color: #272822\">\"Cultural experiences and community tourism in Ethiopia:\"</span><span style=\"color: #f8f8f2; text-decoration-color: #f8f8f2; background-color: #272822\">)</span><span style=\"background-color: #272822\">                                               </span>  \n",
              "  <span style=\"color: #f8f8f2; text-decoration-color: #f8f8f2; background-color: #272822\">print(cultural_experiences)</span><span style=\"background-color: #272822\">                                                                                    </span>  \n",
              "  <span style=\"color: #ff4689; text-decoration-color: #ff4689; background-color: #272822\">&lt;/</span><span style=\"color: #f8f8f2; text-decoration-color: #f8f8f2; background-color: #272822\">code]</span><span style=\"background-color: #272822\">                                                                                                        </span>  \n",
              " ───────────────────────────────────────────────────────────────────────────────────────────────────────────────── \n",
              "</pre>\n"
            ]
          },
          "metadata": {}
        },
        {
          "output_type": "display_data",
          "data": {
            "text/plain": [
              "\u001b[1mExecution logs:\u001b[0m\n",
              "Nature reserves and eco lodges in Ethiopia:\n",
              "## Search Results\n",
              "\n",
              "[The 21 Best Hotels And Lodges In \n",
              "Ethiopia](https://kubwafive-safaris.com/the-21-best-hotels-and-lodges-in-ethiopia/)\n",
              "12. Bale Mountain Lodge . A rare eco-lodge nestled in the wild Bale Mountains National Park, this lodge offers rich\n",
              "biodiversity alongside refined comfort. Here ...\n",
              "\n",
              "[Tribal Life Eco Lodge: Experience Eco Luxury at](https://triballifeecolodge.com/)\n",
              "Remote and yet easily accessible, Tribal Life Ecolodge is the first and only lodge located inside a tribal village \n",
              "in Ethiopia.\n",
              "\n",
              "[HARA LANGANO ECO LODGE - Reviews \n",
              "(Ethiopia)](https://www.tripadvisor.com/Hotel_Review-g2214573-d7700017-Reviews-or10-Hara_Langano_Eco_Lodge-Langano_\n",
              "Oromiya_Region.html)\n",
              "Hara Langano eco lodge nestled on the shore of Lake Langano is a self-contained retreat where you can enjoy fine \n",
              "food & drinks and observe abundant wildlife.\n",
              "\n",
              "[Befiker Kossoye Ecology \n",
              "Lodge](https://www.adventure-life.com/africa/ethiopia/hotels/befiker-kossoye-ecology-lodge)\n",
              "Befiker Kossoye Eco Lodge is located 30km away from the medieval city of Gondar. With breathtaking views of the \n",
              "Semien mountains and Kossoye hills.\n",
              "\n",
              "[Ethiopia and Wenchi Lake nature \n",
              "reserve](https://www.greenprophet.com/2024/05/wenchi-nature-reserve-and-lake-ethiopia/)\n",
              "May 3, 2024 — Noticeable from a lookout point overseeing the lake was a new so-called eco - resort , not yet \n",
              "operating, but built by Ethiopian Airlines. With so ...\n",
              "\n",
              "[Halala Kela Eco Lodge in Ethiopia's Dawero Zone \n",
              "offers](https://www.facebook.com/groups/bigtravelbazarbtb/posts/2509362919428036/)\n",
              "Experiences Await: ✓ Guided Nature Walks: Explore biodiverse trails with resident naturalists to spot endemic \n",
              "birds, monkeys, and rare flora. ✓ ...\n",
              "\n",
              "[Bishangari Lodge - Ethiopia - National Parks in \n",
              "Africa](https://www.nationalparks.africa/listing/bishangari-lodge/)\n",
              "Bishangari Lodge - Escape to Bishangari Eco-Lodge , a secluded oasis nestled in the heart of Ethiopia's Rift \n",
              "Valley. Only a short drive from Addis Ababa,\n",
              "\n",
              "[Boutique and Eco Lodges in Ethiopia](https://www.brilliant-ethiopia.com/hotels/boutique-eco)\n",
              "From the rustic cabin-esque rooms perched atop the plateaus of rural Tigray at Gheralta Lodge , to the peaceful \n",
              "bamboo tukuls of Aregash Lodge.\n",
              "\n",
              "[Embark on a Journey of Wonder at Wanchi Ija Eco Lodge ...](https://www.wanchi-ija.com/)\n",
              "The lodge is on the picturesque Wanchi Crater Lake and features charming chalets that offer stunning views of the \n",
              "unspoiled lake. Visitors can take guided tours ...\n",
              "\n",
              "[Paradise Lodge Arbaminch](https://piperandheath.com/ethiopia-paradise-lodge-arbaminch/)\n",
              "Located in Ethiopia's beautiful and verdant Great Rift Valley , Paradise Lodge Arbaminch is an award-winning \n",
              "eco-lodge.\n",
              "\n"
            ],
            "text/html": [
              "<pre style=\"white-space:pre;overflow-x:auto;line-height:normal;font-family:Menlo,'DejaVu Sans Mono',consolas,'Courier New',monospace\"><span style=\"font-weight: bold\">Execution logs:</span>\n",
              "Nature reserves and eco lodges in Ethiopia:\n",
              "## Search Results\n",
              "\n",
              "[The 21 Best Hotels And Lodges In \n",
              "Ethiopia](https://kubwafive-safaris.com/the-21-best-hotels-and-lodges-in-ethiopia/)\n",
              "12. Bale Mountain Lodge . A rare eco-lodge nestled in the wild Bale Mountains National Park, this lodge offers rich\n",
              "biodiversity alongside refined comfort. Here ...\n",
              "\n",
              "[Tribal Life Eco Lodge: Experience Eco Luxury at](https://triballifeecolodge.com/)\n",
              "Remote and yet easily accessible, Tribal Life Ecolodge is the first and only lodge located inside a tribal village \n",
              "in Ethiopia.\n",
              "\n",
              "[HARA LANGANO ECO LODGE - Reviews \n",
              "(Ethiopia)](https://www.tripadvisor.com/Hotel_Review-g2214573-d7700017-Reviews-or10-Hara_Langano_Eco_Lodge-Langano_\n",
              "Oromiya_Region.html)\n",
              "Hara Langano eco lodge nestled on the shore of Lake Langano is a self-contained retreat where you can enjoy fine \n",
              "food &amp; drinks and observe abundant wildlife.\n",
              "\n",
              "[Befiker Kossoye Ecology \n",
              "Lodge](https://www.adventure-life.com/africa/ethiopia/hotels/befiker-kossoye-ecology-lodge)\n",
              "Befiker Kossoye Eco Lodge is located 30km away from the medieval city of Gondar. With breathtaking views of the \n",
              "Semien mountains and Kossoye hills.\n",
              "\n",
              "[Ethiopia and Wenchi Lake nature \n",
              "reserve](https://www.greenprophet.com/2024/05/wenchi-nature-reserve-and-lake-ethiopia/)\n",
              "May 3, 2024 — Noticeable from a lookout point overseeing the lake was a new so-called eco - resort , not yet \n",
              "operating, but built by Ethiopian Airlines. With so ...\n",
              "\n",
              "[Halala Kela Eco Lodge in Ethiopia's Dawero Zone \n",
              "offers](https://www.facebook.com/groups/bigtravelbazarbtb/posts/2509362919428036/)\n",
              "Experiences Await: ✓ Guided Nature Walks: Explore biodiverse trails with resident naturalists to spot endemic \n",
              "birds, monkeys, and rare flora. ✓ ...\n",
              "\n",
              "[Bishangari Lodge - Ethiopia - National Parks in \n",
              "Africa](https://www.nationalparks.africa/listing/bishangari-lodge/)\n",
              "Bishangari Lodge - Escape to Bishangari Eco-Lodge , a secluded oasis nestled in the heart of Ethiopia's Rift \n",
              "Valley. Only a short drive from Addis Ababa,\n",
              "\n",
              "[Boutique and Eco Lodges in Ethiopia](https://www.brilliant-ethiopia.com/hotels/boutique-eco)\n",
              "From the rustic cabin-esque rooms perched atop the plateaus of rural Tigray at Gheralta Lodge , to the peaceful \n",
              "bamboo tukuls of Aregash Lodge.\n",
              "\n",
              "[Embark on a Journey of Wonder at Wanchi Ija Eco Lodge ...](https://www.wanchi-ija.com/)\n",
              "The lodge is on the picturesque Wanchi Crater Lake and features charming chalets that offer stunning views of the \n",
              "unspoiled lake. Visitors can take guided tours ...\n",
              "\n",
              "[Paradise Lodge Arbaminch](https://piperandheath.com/ethiopia-paradise-lodge-arbaminch/)\n",
              "Located in Ethiopia's beautiful and verdant Great Rift Valley , Paradise Lodge Arbaminch is an award-winning \n",
              "eco-lodge.\n",
              "\n",
              "</pre>\n"
            ]
          },
          "metadata": {}
        },
        {
          "output_type": "display_data",
          "data": {
            "text/plain": [
              "\u001b[1;31mCode parsing failed on line 4 due to: SyntaxError\u001b[0m\n",
              "\u001b[1;31m</code]       ^\u001b[0m\n",
              "\u001b[1;31mError: unmatched ']' (<unknown>, line 4)\u001b[0m\n"
            ],
            "text/html": [
              "<pre style=\"white-space:pre;overflow-x:auto;line-height:normal;font-family:Menlo,'DejaVu Sans Mono',consolas,'Courier New',monospace\"><span style=\"color: #800000; text-decoration-color: #800000; font-weight: bold\">Code parsing failed on line 4 due to: SyntaxError</span>\n",
              "<span style=\"color: #800000; text-decoration-color: #800000; font-weight: bold\">&lt;/code]       ^</span>\n",
              "<span style=\"color: #800000; text-decoration-color: #800000; font-weight: bold\">Error: unmatched ']' (&lt;unknown&gt;, line 4)</span>\n",
              "</pre>\n"
            ]
          },
          "metadata": {}
        },
        {
          "output_type": "display_data",
          "data": {
            "text/plain": [
              "\u001b[2m[Step 3: Duration 0.84 seconds| Input tokens: 9,361 | Output tokens: 187]\u001b[0m\n"
            ],
            "text/html": [
              "<pre style=\"white-space:pre;overflow-x:auto;line-height:normal;font-family:Menlo,'DejaVu Sans Mono',consolas,'Courier New',monospace\"><span style=\"color: #7f7f7f; text-decoration-color: #7f7f7f\">[Step 3: Duration 0.84 seconds| Input tokens: 9,361 | Output tokens: 187]</span>\n",
              "</pre>\n"
            ]
          },
          "metadata": {}
        },
        {
          "output_type": "display_data",
          "data": {
            "text/plain": [
              "\u001b[38;2;212;183;2m━━━━━━━━━━━━━━━━━━━━━━━━━━━━━━━━━━━━━━━━━━━━━━━━━━━━━ \u001b[0m\u001b[1mStep 4\u001b[0m\u001b[38;2;212;183;2m ━━━━━━━━━━━━━━━━━━━━━━━━━━━━━━━━━━━━━━━━━━━━━━━━━━━━━━\u001b[0m\n"
            ],
            "text/html": [
              "<pre style=\"white-space:pre;overflow-x:auto;line-height:normal;font-family:Menlo,'DejaVu Sans Mono',consolas,'Courier New',monospace\"><span style=\"color: #d4b702; text-decoration-color: #d4b702\">━━━━━━━━━━━━━━━━━━━━━━━━━━━━━━━━━━━━━━━━━━━━━━━━━━━━━ </span><span style=\"font-weight: bold\">Step 4</span><span style=\"color: #d4b702; text-decoration-color: #d4b702\"> ━━━━━━━━━━━━━━━━━━━━━━━━━━━━━━━━━━━━━━━━━━━━━━━━━━━━━━</span>\n",
              "</pre>\n"
            ]
          },
          "metadata": {}
        },
        {
          "output_type": "display_data",
          "data": {
            "text/plain": [
              " ─ \u001b[1mExecuting parsed code:\u001b[0m ──────────────────────────────────────────────────────────────────────────────────────── \n",
              "  \u001b[38;2;248;248;242;48;2;39;40;34mcultural_experiences\u001b[0m\u001b[38;2;248;248;242;48;2;39;40;34m \u001b[0m\u001b[38;2;255;70;137;48;2;39;40;34m=\u001b[0m\u001b[38;2;248;248;242;48;2;39;40;34m \u001b[0m\u001b[38;2;248;248;242;48;2;39;40;34mweb_search\u001b[0m\u001b[38;2;248;248;242;48;2;39;40;34m(\u001b[0m\u001b[38;2;230;219;116;48;2;39;40;34m\"\u001b[0m\u001b[38;2;230;219;116;48;2;39;40;34mEthiopia sustainable cultural experiences community tourism\u001b[0m\u001b[38;2;230;219;116;48;2;39;40;34m\"\u001b[0m\u001b[38;2;248;248;242;48;2;39;40;34m)\u001b[0m\u001b[48;2;39;40;34m               \u001b[0m  \n",
              "  \u001b[38;2;248;248;242;48;2;39;40;34mprint\u001b[0m\u001b[38;2;248;248;242;48;2;39;40;34m(\u001b[0m\u001b[38;2;230;219;116;48;2;39;40;34m\"\u001b[0m\u001b[38;2;230;219;116;48;2;39;40;34mCultural experiences and community tourism in Ethiopia:\u001b[0m\u001b[38;2;230;219;116;48;2;39;40;34m\"\u001b[0m\u001b[38;2;248;248;242;48;2;39;40;34m)\u001b[0m\u001b[48;2;39;40;34m                                               \u001b[0m  \n",
              "  \u001b[38;2;248;248;242;48;2;39;40;34mprint\u001b[0m\u001b[38;2;248;248;242;48;2;39;40;34m(\u001b[0m\u001b[38;2;248;248;242;48;2;39;40;34mcultural_experiences\u001b[0m\u001b[38;2;248;248;242;48;2;39;40;34m)\u001b[0m\u001b[48;2;39;40;34m                                                                                    \u001b[0m  \n",
              " ───────────────────────────────────────────────────────────────────────────────────────────────────────────────── \n"
            ],
            "text/html": [
              "<pre style=\"white-space:pre;overflow-x:auto;line-height:normal;font-family:Menlo,'DejaVu Sans Mono',consolas,'Courier New',monospace\"> ─ <span style=\"font-weight: bold\">Executing parsed code:</span> ──────────────────────────────────────────────────────────────────────────────────────── \n",
              "  <span style=\"color: #f8f8f2; text-decoration-color: #f8f8f2; background-color: #272822\">cultural_experiences </span><span style=\"color: #ff4689; text-decoration-color: #ff4689; background-color: #272822\">=</span><span style=\"color: #f8f8f2; text-decoration-color: #f8f8f2; background-color: #272822\"> web_search(</span><span style=\"color: #e6db74; text-decoration-color: #e6db74; background-color: #272822\">\"Ethiopia sustainable cultural experiences community tourism\"</span><span style=\"color: #f8f8f2; text-decoration-color: #f8f8f2; background-color: #272822\">)</span><span style=\"background-color: #272822\">               </span>  \n",
              "  <span style=\"color: #f8f8f2; text-decoration-color: #f8f8f2; background-color: #272822\">print(</span><span style=\"color: #e6db74; text-decoration-color: #e6db74; background-color: #272822\">\"Cultural experiences and community tourism in Ethiopia:\"</span><span style=\"color: #f8f8f2; text-decoration-color: #f8f8f2; background-color: #272822\">)</span><span style=\"background-color: #272822\">                                               </span>  \n",
              "  <span style=\"color: #f8f8f2; text-decoration-color: #f8f8f2; background-color: #272822\">print(cultural_experiences)</span><span style=\"background-color: #272822\">                                                                                    </span>  \n",
              " ───────────────────────────────────────────────────────────────────────────────────────────────────────────────── \n",
              "</pre>\n"
            ]
          },
          "metadata": {}
        },
        {
          "output_type": "display_data",
          "data": {
            "text/plain": [
              "\u001b[1mExecution logs:\u001b[0m\n",
              "Cultural experiences and community tourism in Ethiopia:\n",
              "## Search Results\n",
              "\n",
              "[Tourism in Ethiopia: A Promising Path to Poverty \n",
              "Alleviation](https://borgenproject.org/tourism-in-ethiopia-a-promising-path-to-poverty-alleviation/)\n",
              "Oct 21, 2024 — SNV's projects emphasize the empowerment of local communities , helping them build sustainable \n",
              "tourism businesses that offer authentic cultural ...\n",
              "\n",
              "[Ethiopia Tourism Sector Sees Promising Growth As Batu \n",
              "...](https://www.travelandtourworld.com/news/article/ethiopia-tourism-sector-sees-promising-growth-as-batu-becomes-\n",
              "a-hub-for-eco-tourism-community-travel-and-heritage-tourism/)\n",
              "Jul 12, 2025 — Ethiopia's travel sector is gaining new vitality with Batu becoming one of the leading eco-tour \n",
              "destinations , thanks to its picturesque Rift ...\n",
              "\n",
              "[Exchange with Ethiopian Community Based Tourism \n",
              "...](https://www.kara-tunga.com/foundation-news/experience-sharing-community-based-tourism-ethiopia/?srsltid=AfmBOo\n",
              "qqD13-VhI0X7ydQCd1EeykrzcDHR7BioDb_GpAFTmSvAxVIgjD)\n",
              "Nov 27, 2023 — Through targeted coaching and workshops, CBI is lighting the path for sustainable tourism growth \n",
              "that benefits both visitors and local ...\n",
              "\n",
              "[Responsible tourism in \n",
              "Ethiopia](https://www.responsiblevacation.com/vacations/ethiopia/travel-guide/responsible-tourism-in-ethiopia)\n",
              "Community tourism . Cultural tourism takes many forms in Ethiopia, and true to its independent character, outside \n",
              "of the Omo Valley, much of it is managed by, ...\n",
              "\n",
              "[Ethiopia - Sustainable Tourism Development \n",
              "Project](https://documents.worldbank.org/en/publication/documents-reports/documentdetail/323331468256151679/ethiopi\n",
              "a-sustainable-tourism-development-project-environmental-and-social-management-framework)\n",
              "The objective of the Sustainable Tourism Development Project in Ethiopia is to support the country's efforts to \n",
              "derive maximum benefit from national, regional ...\n",
              "\n",
              "[Sustainable rural tourism development in \n",
              "Ethiopia](https://systems.enpress-publisher.com/index.php/jipd/article/view/9895)\n",
              "Rural tourism , which offers authentic cultural and nature-based experiences , is increasingly recognized as a \n",
              "vital tool for sustainable development.\n",
              "\n",
              "[The Impact Of Tourism In Ethiopia](https://www.tourhq.com/article/the-impact-of-tourism-in-ethiopia)\n",
              "Dec 8, 2024 — Ethiopian cuisine, music, dance, and arts have become internationally recognized, and tourism has \n",
              "played a role in spreading these cultural ...\n",
              "\n",
              "[Ethiopia](https://www.solimarinternational.com/project/southern-ethiopia/)\n",
              "Supporting community development and biodiversity conservation in Ethiopia through sustainable tourism development.\n",
              "Client: USAID-Ethiopia; Partners: Global ...\n",
              "\n",
              "[Community Tourism in \n",
              "Ethiopia](https://overlandethiopiatours.com/others-tours-to-ethiopia/community-tourism-in-ethiopia/)\n",
              "Community based tourism is a form of sustainable tourism that allows visitors to connect closely with the \n",
              "communities they visit.\n",
              "\n",
              "[Cultural Experiences](https://www.brilliant-ethiopia.com/cultural-experiences)\n",
              "Wandering the sprawling markets , visiting the ancient churches and monasteries, hiking across the plateaus, and \n",
              "sampling the local cuisine.\n",
              "\n",
              "Out: None\n"
            ],
            "text/html": [
              "<pre style=\"white-space:pre;overflow-x:auto;line-height:normal;font-family:Menlo,'DejaVu Sans Mono',consolas,'Courier New',monospace\"><span style=\"font-weight: bold\">Execution logs:</span>\n",
              "Cultural experiences and community tourism in Ethiopia:\n",
              "## Search Results\n",
              "\n",
              "[Tourism in Ethiopia: A Promising Path to Poverty \n",
              "Alleviation](https://borgenproject.org/tourism-in-ethiopia-a-promising-path-to-poverty-alleviation/)\n",
              "Oct 21, 2024 — SNV's projects emphasize the empowerment of local communities , helping them build sustainable \n",
              "tourism businesses that offer authentic cultural ...\n",
              "\n",
              "[Ethiopia Tourism Sector Sees Promising Growth As Batu \n",
              "...](https://www.travelandtourworld.com/news/article/ethiopia-tourism-sector-sees-promising-growth-as-batu-becomes-\n",
              "a-hub-for-eco-tourism-community-travel-and-heritage-tourism/)\n",
              "Jul 12, 2025 — Ethiopia's travel sector is gaining new vitality with Batu becoming one of the leading eco-tour \n",
              "destinations , thanks to its picturesque Rift ...\n",
              "\n",
              "[Exchange with Ethiopian Community Based Tourism \n",
              "...](https://www.kara-tunga.com/foundation-news/experience-sharing-community-based-tourism-ethiopia/?srsltid=AfmBOo\n",
              "qqD13-VhI0X7ydQCd1EeykrzcDHR7BioDb_GpAFTmSvAxVIgjD)\n",
              "Nov 27, 2023 — Through targeted coaching and workshops, CBI is lighting the path for sustainable tourism growth \n",
              "that benefits both visitors and local ...\n",
              "\n",
              "[Responsible tourism in \n",
              "Ethiopia](https://www.responsiblevacation.com/vacations/ethiopia/travel-guide/responsible-tourism-in-ethiopia)\n",
              "Community tourism . Cultural tourism takes many forms in Ethiopia, and true to its independent character, outside \n",
              "of the Omo Valley, much of it is managed by, ...\n",
              "\n",
              "[Ethiopia - Sustainable Tourism Development \n",
              "Project](https://documents.worldbank.org/en/publication/documents-reports/documentdetail/323331468256151679/ethiopi\n",
              "a-sustainable-tourism-development-project-environmental-and-social-management-framework)\n",
              "The objective of the Sustainable Tourism Development Project in Ethiopia is to support the country's efforts to \n",
              "derive maximum benefit from national, regional ...\n",
              "\n",
              "[Sustainable rural tourism development in \n",
              "Ethiopia](https://systems.enpress-publisher.com/index.php/jipd/article/view/9895)\n",
              "Rural tourism , which offers authentic cultural and nature-based experiences , is increasingly recognized as a \n",
              "vital tool for sustainable development.\n",
              "\n",
              "[The Impact Of Tourism In Ethiopia](https://www.tourhq.com/article/the-impact-of-tourism-in-ethiopia)\n",
              "Dec 8, 2024 — Ethiopian cuisine, music, dance, and arts have become internationally recognized, and tourism has \n",
              "played a role in spreading these cultural ...\n",
              "\n",
              "[Ethiopia](https://www.solimarinternational.com/project/southern-ethiopia/)\n",
              "Supporting community development and biodiversity conservation in Ethiopia through sustainable tourism development.\n",
              "Client: USAID-Ethiopia; Partners: Global ...\n",
              "\n",
              "[Community Tourism in \n",
              "Ethiopia](https://overlandethiopiatours.com/others-tours-to-ethiopia/community-tourism-in-ethiopia/)\n",
              "Community based tourism is a form of sustainable tourism that allows visitors to connect closely with the \n",
              "communities they visit.\n",
              "\n",
              "[Cultural Experiences](https://www.brilliant-ethiopia.com/cultural-experiences)\n",
              "Wandering the sprawling markets , visiting the ancient churches and monasteries, hiking across the plateaus, and \n",
              "sampling the local cuisine.\n",
              "\n",
              "Out: None\n",
              "</pre>\n"
            ]
          },
          "metadata": {}
        },
        {
          "output_type": "display_data",
          "data": {
            "text/plain": [
              "\u001b[2m[Step 4: Duration 1.59 seconds| Input tokens: 14,365 | Output tokens: 242]\u001b[0m\n"
            ],
            "text/html": [
              "<pre style=\"white-space:pre;overflow-x:auto;line-height:normal;font-family:Menlo,'DejaVu Sans Mono',consolas,'Courier New',monospace\"><span style=\"color: #7f7f7f; text-decoration-color: #7f7f7f\">[Step 4: Duration 1.59 seconds| Input tokens: 14,365 | Output tokens: 242]</span>\n",
              "</pre>\n"
            ]
          },
          "metadata": {}
        },
        {
          "output_type": "display_data",
          "data": {
            "text/plain": [
              "\u001b[38;2;212;183;2m━━━━━━━━━━━━━━━━━━━━━━━━━━━━━━━━━━━━━━━━━━━━━━━━━━━━━ \u001b[0m\u001b[1mStep 5\u001b[0m\u001b[38;2;212;183;2m ━━━━━━━━━━━━━━━━━━━━━━━━━━━━━━━━━━━━━━━━━━━━━━━━━━━━━━\u001b[0m\n"
            ],
            "text/html": [
              "<pre style=\"white-space:pre;overflow-x:auto;line-height:normal;font-family:Menlo,'DejaVu Sans Mono',consolas,'Courier New',monospace\"><span style=\"color: #d4b702; text-decoration-color: #d4b702\">━━━━━━━━━━━━━━━━━━━━━━━━━━━━━━━━━━━━━━━━━━━━━━━━━━━━━ </span><span style=\"font-weight: bold\">Step 5</span><span style=\"color: #d4b702; text-decoration-color: #d4b702\"> ━━━━━━━━━━━━━━━━━━━━━━━━━━━━━━━━━━━━━━━━━━━━━━━━━━━━━━</span>\n",
              "</pre>\n"
            ]
          },
          "metadata": {}
        },
        {
          "output_type": "display_data",
          "data": {
            "text/plain": [
              " ─ \u001b[1mExecuting parsed code:\u001b[0m ──────────────────────────────────────────────────────────────────────────────────────── \n",
              "  \u001b[38;2;248;248;242;48;2;39;40;34mnature_reserves_info\u001b[0m\u001b[38;2;248;248;242;48;2;39;40;34m \u001b[0m\u001b[38;2;255;70;137;48;2;39;40;34m=\u001b[0m\u001b[38;2;248;248;242;48;2;39;40;34m \u001b[0m\u001b[38;2;248;248;242;48;2;39;40;34mweb_search\u001b[0m\u001b[38;2;248;248;242;48;2;39;40;34m(\u001b[0m\u001b[38;2;230;219;116;48;2;39;40;34m\"\u001b[0m\u001b[38;2;230;219;116;48;2;39;40;34mEthiopia major nature reserves biodiversity\u001b[0m\u001b[38;2;230;219;116;48;2;39;40;34m\"\u001b[0m\u001b[38;2;248;248;242;48;2;39;40;34m)\u001b[0m\u001b[48;2;39;40;34m                               \u001b[0m  \n",
              "  \u001b[38;2;248;248;242;48;2;39;40;34mprint\u001b[0m\u001b[38;2;248;248;242;48;2;39;40;34m(\u001b[0m\u001b[38;2;230;219;116;48;2;39;40;34m\"\u001b[0m\u001b[38;2;230;219;116;48;2;39;40;34mMajor nature reserves in Ethiopia:\u001b[0m\u001b[38;2;230;219;116;48;2;39;40;34m\"\u001b[0m\u001b[38;2;248;248;242;48;2;39;40;34m)\u001b[0m\u001b[48;2;39;40;34m                                                                    \u001b[0m  \n",
              "  \u001b[38;2;248;248;242;48;2;39;40;34mprint\u001b[0m\u001b[38;2;248;248;242;48;2;39;40;34m(\u001b[0m\u001b[38;2;248;248;242;48;2;39;40;34mnature_reserves_info\u001b[0m\u001b[38;2;248;248;242;48;2;39;40;34m)\u001b[0m\u001b[48;2;39;40;34m                                                                                    \u001b[0m  \n",
              " ───────────────────────────────────────────────────────────────────────────────────────────────────────────────── \n"
            ],
            "text/html": [
              "<pre style=\"white-space:pre;overflow-x:auto;line-height:normal;font-family:Menlo,'DejaVu Sans Mono',consolas,'Courier New',monospace\"> ─ <span style=\"font-weight: bold\">Executing parsed code:</span> ──────────────────────────────────────────────────────────────────────────────────────── \n",
              "  <span style=\"color: #f8f8f2; text-decoration-color: #f8f8f2; background-color: #272822\">nature_reserves_info </span><span style=\"color: #ff4689; text-decoration-color: #ff4689; background-color: #272822\">=</span><span style=\"color: #f8f8f2; text-decoration-color: #f8f8f2; background-color: #272822\"> web_search(</span><span style=\"color: #e6db74; text-decoration-color: #e6db74; background-color: #272822\">\"Ethiopia major nature reserves biodiversity\"</span><span style=\"color: #f8f8f2; text-decoration-color: #f8f8f2; background-color: #272822\">)</span><span style=\"background-color: #272822\">                               </span>  \n",
              "  <span style=\"color: #f8f8f2; text-decoration-color: #f8f8f2; background-color: #272822\">print(</span><span style=\"color: #e6db74; text-decoration-color: #e6db74; background-color: #272822\">\"Major nature reserves in Ethiopia:\"</span><span style=\"color: #f8f8f2; text-decoration-color: #f8f8f2; background-color: #272822\">)</span><span style=\"background-color: #272822\">                                                                    </span>  \n",
              "  <span style=\"color: #f8f8f2; text-decoration-color: #f8f8f2; background-color: #272822\">print(nature_reserves_info)</span><span style=\"background-color: #272822\">                                                                                    </span>  \n",
              " ───────────────────────────────────────────────────────────────────────────────────────────────────────────────── \n",
              "</pre>\n"
            ]
          },
          "metadata": {}
        },
        {
          "output_type": "display_data",
          "data": {
            "text/plain": [
              "\u001b[1mExecution logs:\u001b[0m\n",
              "Major nature reserves in Ethiopia:\n",
              "## Search Results\n",
              "\n",
              "[Ethiopia - Reddit](https://www.reddit.com/r/Ethiopia/wiki/index/)\n",
              "A subreddit for anything related to Ethiopia! Ethiopian History, Politics, Culture, Photographs, Buna, Injera, \n",
              "Wildlife, Discussion.\n",
              "\n",
              "[Ethiopia tips : r/hoi4 - Reddit](https://www.reddit.com/r/hoi4/comments/185tp9n/ethiopia_tips/)\n",
              "Nov 28, 2023 · Just gonna necro this thread for posterity of future ethiopia players. So, Italy usually offers \n",
              "peace and includes the sultanate. It's advisable to just take this deal as your war can …\n",
              "\n",
              "[Guy's I'm confused I conquered Ethiopia but can't form Italian east \n",
              "...](https://www.reddit.com/r/hoi4/comments/xx2o0b/guys_im_confused_i_conquered_ethiopia_but_cant/)\n",
              "Oct 6, 2022 · Ethiopia has a focus that causes them to go into exile once they capitulate. They \"join\" allies \n",
              "(can't call anyone into the war) and the war \"keeps going\" (you don't even get the stability …\n",
              "\n",
              "[\"Colourism and Anti-Blackness are Real in Ethiopia\" says Weyni \n",
              "…](https://www.reddit.com/r/Ethiopia/comments/1d6piuu/colourism_and_antiblackness_are_real_in_ethiopia/)\n",
              "Ethiopia was doing that as recent as last this hour we are in. Ethiopia has history that history this but its \n",
              "history is painted with the blood of their African brothers, and the bones of their the brothers …\n",
              "\n",
              "[Moving to Addis Ababa, Ethiopia : r/expats - \n",
              "Reddit](https://www.reddit.com/r/expats/comments/x4lg79/moving_to_addis_ababa_ethiopia/)\n",
              "Sep 3, 2022 · It is very inexpensive to hire help in Ethiopia and I would encourage you to do so if you have the \n",
              "budget. You can make a huge difference to someone's life and they will be a huge help …\n",
              "\n",
              "[How safe is Ethiopia for a traveler? : r/Ethiopia - \n",
              "Reddit](https://www.reddit.com/r/Ethiopia/comments/11orbsz/how_safe_is_ethiopia_for_a_traveler/)\n",
              "Mar 11, 2023 · A subreddit for anything related to Ethiopia! Ethiopian History, Politics, Culture, Photographs, \n",
              "Buna, Injera, Wildlife, Discussion.\n",
              "\n",
              "[tips for playing as ethiopia ? : r/eu4 - \n",
              "Reddit](https://www.reddit.com/r/eu4/comments/10ocrwl/tips_for_playing_as_ethiopia/)\n",
              "Jan 29, 2023 · I just started playing Ethiopia yesterday. Basically follow the mission trees, which progressively \n",
              "give you claims on the land around you and use that as your “guide” for where to …\n",
              "\n",
              "[r/Ethiopia on Reddit: Has anyone been inside the Chapel of the \n",
              "…](https://www.reddit.com/r/Ethiopia/comments/16gxwrq/has_anyone_been_inside_the_chapel_of_the_tablet/)\n",
              "Sep 12, 2023 · Ethiopia has had so many wars during its long history that there must be some protocol for \n",
              "protecting the ark in times of upheaval. I also doubt that European historian in the …\n",
              "\n",
              "[Why do Ethiopians look indian? : r/Ethiopia - \n",
              "Reddit](https://www.reddit.com/r/Ethiopia/comments/18wv3cs/why_do_ethiopians_look_indian/)\n",
              "Jan 2, 2024 · Semitic groups, especially those in the extreme North like Gondar, Tigray, and Eritrea, have ancient \n",
              "Middle Eastern admixture, as well as more recent Sabean admixture, from Southern …\n",
              "\n",
              "[For anyone struggling in Ethopia as Italy, try building this ... - \n",
              "Reddit](https://www.reddit.com/r/hoi4/comments/xukbes/for_anyone_struggling_in_ethopia_as_italy_try/)\n",
              "You can capitulate Ethiopia before they board the train, making sure you don't get any stability penalties or high \n",
              "resistance. you do indeed just need to build the railroad, motorize your african …\n",
              "\n",
              "Out: None\n"
            ],
            "text/html": [
              "<pre style=\"white-space:pre;overflow-x:auto;line-height:normal;font-family:Menlo,'DejaVu Sans Mono',consolas,'Courier New',monospace\"><span style=\"font-weight: bold\">Execution logs:</span>\n",
              "Major nature reserves in Ethiopia:\n",
              "## Search Results\n",
              "\n",
              "[Ethiopia - Reddit](https://www.reddit.com/r/Ethiopia/wiki/index/)\n",
              "A subreddit for anything related to Ethiopia! Ethiopian History, Politics, Culture, Photographs, Buna, Injera, \n",
              "Wildlife, Discussion.\n",
              "\n",
              "[Ethiopia tips : r/hoi4 - Reddit](https://www.reddit.com/r/hoi4/comments/185tp9n/ethiopia_tips/)\n",
              "Nov 28, 2023 · Just gonna necro this thread for posterity of future ethiopia players. So, Italy usually offers \n",
              "peace and includes the sultanate. It's advisable to just take this deal as your war can …\n",
              "\n",
              "[Guy's I'm confused I conquered Ethiopia but can't form Italian east \n",
              "...](https://www.reddit.com/r/hoi4/comments/xx2o0b/guys_im_confused_i_conquered_ethiopia_but_cant/)\n",
              "Oct 6, 2022 · Ethiopia has a focus that causes them to go into exile once they capitulate. They \"join\" allies \n",
              "(can't call anyone into the war) and the war \"keeps going\" (you don't even get the stability …\n",
              "\n",
              "[\"Colourism and Anti-Blackness are Real in Ethiopia\" says Weyni \n",
              "…](https://www.reddit.com/r/Ethiopia/comments/1d6piuu/colourism_and_antiblackness_are_real_in_ethiopia/)\n",
              "Ethiopia was doing that as recent as last this hour we are in. Ethiopia has history that history this but its \n",
              "history is painted with the blood of their African brothers, and the bones of their the brothers …\n",
              "\n",
              "[Moving to Addis Ababa, Ethiopia : r/expats - \n",
              "Reddit](https://www.reddit.com/r/expats/comments/x4lg79/moving_to_addis_ababa_ethiopia/)\n",
              "Sep 3, 2022 · It is very inexpensive to hire help in Ethiopia and I would encourage you to do so if you have the \n",
              "budget. You can make a huge difference to someone's life and they will be a huge help …\n",
              "\n",
              "[How safe is Ethiopia for a traveler? : r/Ethiopia - \n",
              "Reddit](https://www.reddit.com/r/Ethiopia/comments/11orbsz/how_safe_is_ethiopia_for_a_traveler/)\n",
              "Mar 11, 2023 · A subreddit for anything related to Ethiopia! Ethiopian History, Politics, Culture, Photographs, \n",
              "Buna, Injera, Wildlife, Discussion.\n",
              "\n",
              "[tips for playing as ethiopia ? : r/eu4 - \n",
              "Reddit](https://www.reddit.com/r/eu4/comments/10ocrwl/tips_for_playing_as_ethiopia/)\n",
              "Jan 29, 2023 · I just started playing Ethiopia yesterday. Basically follow the mission trees, which progressively \n",
              "give you claims on the land around you and use that as your “guide” for where to …\n",
              "\n",
              "[r/Ethiopia on Reddit: Has anyone been inside the Chapel of the \n",
              "…](https://www.reddit.com/r/Ethiopia/comments/16gxwrq/has_anyone_been_inside_the_chapel_of_the_tablet/)\n",
              "Sep 12, 2023 · Ethiopia has had so many wars during its long history that there must be some protocol for \n",
              "protecting the ark in times of upheaval. I also doubt that European historian in the …\n",
              "\n",
              "[Why do Ethiopians look indian? : r/Ethiopia - \n",
              "Reddit](https://www.reddit.com/r/Ethiopia/comments/18wv3cs/why_do_ethiopians_look_indian/)\n",
              "Jan 2, 2024 · Semitic groups, especially those in the extreme North like Gondar, Tigray, and Eritrea, have ancient \n",
              "Middle Eastern admixture, as well as more recent Sabean admixture, from Southern …\n",
              "\n",
              "[For anyone struggling in Ethopia as Italy, try building this ... - \n",
              "Reddit](https://www.reddit.com/r/hoi4/comments/xukbes/for_anyone_struggling_in_ethopia_as_italy_try/)\n",
              "You can capitulate Ethiopia before they board the train, making sure you don't get any stability penalties or high \n",
              "resistance. you do indeed just need to build the railroad, motorize your african …\n",
              "\n",
              "Out: None\n",
              "</pre>\n"
            ]
          },
          "metadata": {}
        },
        {
          "output_type": "display_data",
          "data": {
            "text/plain": [
              "\u001b[2m[Step 5: Duration 1.06 seconds| Input tokens: 20,247 | Output tokens: 292]\u001b[0m\n"
            ],
            "text/html": [
              "<pre style=\"white-space:pre;overflow-x:auto;line-height:normal;font-family:Menlo,'DejaVu Sans Mono',consolas,'Courier New',monospace\"><span style=\"color: #7f7f7f; text-decoration-color: #7f7f7f\">[Step 5: Duration 1.06 seconds| Input tokens: 20,247 | Output tokens: 292]</span>\n",
              "</pre>\n"
            ]
          },
          "metadata": {}
        },
        {
          "output_type": "display_data",
          "data": {
            "text/plain": [
              "\u001b[38;2;212;183;2m━━━━━━━━━━━━━━━━━━━━━━━━━━━━━━━━━━━━━━━━━━━━━━━━━━━━━ \u001b[0m\u001b[1mStep 6\u001b[0m\u001b[38;2;212;183;2m ━━━━━━━━━━━━━━━━━━━━━━━━━━━━━━━━━━━━━━━━━━━━━━━━━━━━━━\u001b[0m\n"
            ],
            "text/html": [
              "<pre style=\"white-space:pre;overflow-x:auto;line-height:normal;font-family:Menlo,'DejaVu Sans Mono',consolas,'Courier New',monospace\"><span style=\"color: #d4b702; text-decoration-color: #d4b702\">━━━━━━━━━━━━━━━━━━━━━━━━━━━━━━━━━━━━━━━━━━━━━━━━━━━━━ </span><span style=\"font-weight: bold\">Step 6</span><span style=\"color: #d4b702; text-decoration-color: #d4b702\"> ━━━━━━━━━━━━━━━━━━━━━━━━━━━━━━━━━━━━━━━━━━━━━━━━━━━━━━</span>\n",
              "</pre>\n"
            ]
          },
          "metadata": {}
        },
        {
          "output_type": "display_data",
          "data": {
            "text/plain": [
              " ─ \u001b[1mExecuting parsed code:\u001b[0m ──────────────────────────────────────────────────────────────────────────────────────── \n",
              "  \u001b[38;2;248;248;242;48;2;39;40;34mprotected_areas\u001b[0m\u001b[38;2;248;248;242;48;2;39;40;34m \u001b[0m\u001b[38;2;255;70;137;48;2;39;40;34m=\u001b[0m\u001b[38;2;248;248;242;48;2;39;40;34m \u001b[0m\u001b[38;2;248;248;242;48;2;39;40;34mweb_search\u001b[0m\u001b[38;2;248;248;242;48;2;39;40;34m(\u001b[0m\u001b[38;2;230;219;116;48;2;39;40;34m\"\u001b[0m\u001b[38;2;230;219;116;48;2;39;40;34mEthiopia protected areas national parks biodiversity\u001b[0m\u001b[38;2;230;219;116;48;2;39;40;34m\"\u001b[0m\u001b[38;2;248;248;242;48;2;39;40;34m)\u001b[0m\u001b[48;2;39;40;34m                           \u001b[0m  \n",
              "  \u001b[38;2;248;248;242;48;2;39;40;34mprint\u001b[0m\u001b[38;2;248;248;242;48;2;39;40;34m(\u001b[0m\u001b[38;2;230;219;116;48;2;39;40;34m\"\u001b[0m\u001b[38;2;230;219;116;48;2;39;40;34mProtected areas and biodiversity in Ethiopia:\u001b[0m\u001b[38;2;230;219;116;48;2;39;40;34m\"\u001b[0m\u001b[38;2;248;248;242;48;2;39;40;34m)\u001b[0m\u001b[48;2;39;40;34m                                                         \u001b[0m  \n",
              "  \u001b[38;2;248;248;242;48;2;39;40;34mprint\u001b[0m\u001b[38;2;248;248;242;48;2;39;40;34m(\u001b[0m\u001b[38;2;248;248;242;48;2;39;40;34mprotected_areas\u001b[0m\u001b[38;2;248;248;242;48;2;39;40;34m)\u001b[0m\u001b[48;2;39;40;34m                                                                                         \u001b[0m  \n",
              "  \u001b[38;2;255;70;137;48;2;39;40;34m<\u001b[0m\u001b[38;2;255;70;137;48;2;39;40;34m/\u001b[0m\u001b[38;2;248;248;242;48;2;39;40;34mcode\u001b[0m\u001b[38;2;248;248;242;48;2;39;40;34m]\u001b[0m\u001b[48;2;39;40;34m                                                                                                        \u001b[0m  \n",
              " ───────────────────────────────────────────────────────────────────────────────────────────────────────────────── \n"
            ],
            "text/html": [
              "<pre style=\"white-space:pre;overflow-x:auto;line-height:normal;font-family:Menlo,'DejaVu Sans Mono',consolas,'Courier New',monospace\"> ─ <span style=\"font-weight: bold\">Executing parsed code:</span> ──────────────────────────────────────────────────────────────────────────────────────── \n",
              "  <span style=\"color: #f8f8f2; text-decoration-color: #f8f8f2; background-color: #272822\">protected_areas </span><span style=\"color: #ff4689; text-decoration-color: #ff4689; background-color: #272822\">=</span><span style=\"color: #f8f8f2; text-decoration-color: #f8f8f2; background-color: #272822\"> web_search(</span><span style=\"color: #e6db74; text-decoration-color: #e6db74; background-color: #272822\">\"Ethiopia protected areas national parks biodiversity\"</span><span style=\"color: #f8f8f2; text-decoration-color: #f8f8f2; background-color: #272822\">)</span><span style=\"background-color: #272822\">                           </span>  \n",
              "  <span style=\"color: #f8f8f2; text-decoration-color: #f8f8f2; background-color: #272822\">print(</span><span style=\"color: #e6db74; text-decoration-color: #e6db74; background-color: #272822\">\"Protected areas and biodiversity in Ethiopia:\"</span><span style=\"color: #f8f8f2; text-decoration-color: #f8f8f2; background-color: #272822\">)</span><span style=\"background-color: #272822\">                                                         </span>  \n",
              "  <span style=\"color: #f8f8f2; text-decoration-color: #f8f8f2; background-color: #272822\">print(protected_areas)</span><span style=\"background-color: #272822\">                                                                                         </span>  \n",
              "  <span style=\"color: #ff4689; text-decoration-color: #ff4689; background-color: #272822\">&lt;/</span><span style=\"color: #f8f8f2; text-decoration-color: #f8f8f2; background-color: #272822\">code]</span><span style=\"background-color: #272822\">                                                                                                        </span>  \n",
              " ───────────────────────────────────────────────────────────────────────────────────────────────────────────────── \n",
              "</pre>\n"
            ]
          },
          "metadata": {}
        },
        {
          "output_type": "display_data",
          "data": {
            "text/plain": [
              "\u001b[1mExecution logs:\u001b[0m\n",
              "Major nature reserves in Ethiopia:\n",
              "## Search Results\n",
              "\n",
              "[Ethiopia - Reddit](https://www.reddit.com/r/Ethiopia/wiki/index/)\n",
              "A subreddit for anything related to Ethiopia! Ethiopian History, Politics, Culture, Photographs, Buna, Injera, \n",
              "Wildlife, Discussion.\n",
              "\n",
              "[Ethiopia tips : r/hoi4 - Reddit](https://www.reddit.com/r/hoi4/comments/185tp9n/ethiopia_tips/)\n",
              "Nov 28, 2023 · Just gonna necro this thread for posterity of future ethiopia players. So, Italy usually offers \n",
              "peace and includes the sultanate. It's advisable to just take this deal as your war can …\n",
              "\n",
              "[Guy's I'm confused I conquered Ethiopia but can't form Italian east \n",
              "...](https://www.reddit.com/r/hoi4/comments/xx2o0b/guys_im_confused_i_conquered_ethiopia_but_cant/)\n",
              "Oct 6, 2022 · Ethiopia has a focus that causes them to go into exile once they capitulate. They \"join\" allies \n",
              "(can't call anyone into the war) and the war \"keeps going\" (you don't even get the stability …\n",
              "\n",
              "[\"Colourism and Anti-Blackness are Real in Ethiopia\" says Weyni \n",
              "…](https://www.reddit.com/r/Ethiopia/comments/1d6piuu/colourism_and_antiblackness_are_real_in_ethiopia/)\n",
              "Ethiopia was doing that as recent as last this hour we are in. Ethiopia has history that history this but its \n",
              "history is painted with the blood of their African brothers, and the bones of their the brothers …\n",
              "\n",
              "[Moving to Addis Ababa, Ethiopia : r/expats - \n",
              "Reddit](https://www.reddit.com/r/expats/comments/x4lg79/moving_to_addis_ababa_ethiopia/)\n",
              "Sep 3, 2022 · It is very inexpensive to hire help in Ethiopia and I would encourage you to do so if you have the \n",
              "budget. You can make a huge difference to someone's life and they will be a huge help …\n",
              "\n",
              "[How safe is Ethiopia for a traveler? : r/Ethiopia - \n",
              "Reddit](https://www.reddit.com/r/Ethiopia/comments/11orbsz/how_safe_is_ethiopia_for_a_traveler/)\n",
              "Mar 11, 2023 · A subreddit for anything related to Ethiopia! Ethiopian History, Politics, Culture, Photographs, \n",
              "Buna, Injera, Wildlife, Discussion.\n",
              "\n",
              "[tips for playing as ethiopia ? : r/eu4 - \n",
              "Reddit](https://www.reddit.com/r/eu4/comments/10ocrwl/tips_for_playing_as_ethiopia/)\n",
              "Jan 29, 2023 · I just started playing Ethiopia yesterday. Basically follow the mission trees, which progressively \n",
              "give you claims on the land around you and use that as your “guide” for where to …\n",
              "\n",
              "[r/Ethiopia on Reddit: Has anyone been inside the Chapel of the \n",
              "…](https://www.reddit.com/r/Ethiopia/comments/16gxwrq/has_anyone_been_inside_the_chapel_of_the_tablet/)\n",
              "Sep 12, 2023 · Ethiopia has had so many wars during its long history that there must be some protocol for \n",
              "protecting the ark in times of upheaval. I also doubt that European historian in the …\n",
              "\n",
              "[Why do Ethiopians look indian? : r/Ethiopia - \n",
              "Reddit](https://www.reddit.com/r/Ethiopia/comments/18wv3cs/why_do_ethiopians_look_indian/)\n",
              "Jan 2, 2024 · Semitic groups, especially those in the extreme North like Gondar, Tigray, and Eritrea, have ancient \n",
              "Middle Eastern admixture, as well as more recent Sabean admixture, from Southern …\n",
              "\n",
              "[For anyone struggling in Ethopia as Italy, try building this ... - \n",
              "Reddit](https://www.reddit.com/r/hoi4/comments/xukbes/for_anyone_struggling_in_ethopia_as_italy_try/)\n",
              "You can capitulate Ethiopia before they board the train, making sure you don't get any stability penalties or high \n",
              "resistance. you do indeed just need to build the railroad, motorize your african …\n",
              "\n"
            ],
            "text/html": [
              "<pre style=\"white-space:pre;overflow-x:auto;line-height:normal;font-family:Menlo,'DejaVu Sans Mono',consolas,'Courier New',monospace\"><span style=\"font-weight: bold\">Execution logs:</span>\n",
              "Major nature reserves in Ethiopia:\n",
              "## Search Results\n",
              "\n",
              "[Ethiopia - Reddit](https://www.reddit.com/r/Ethiopia/wiki/index/)\n",
              "A subreddit for anything related to Ethiopia! Ethiopian History, Politics, Culture, Photographs, Buna, Injera, \n",
              "Wildlife, Discussion.\n",
              "\n",
              "[Ethiopia tips : r/hoi4 - Reddit](https://www.reddit.com/r/hoi4/comments/185tp9n/ethiopia_tips/)\n",
              "Nov 28, 2023 · Just gonna necro this thread for posterity of future ethiopia players. So, Italy usually offers \n",
              "peace and includes the sultanate. It's advisable to just take this deal as your war can …\n",
              "\n",
              "[Guy's I'm confused I conquered Ethiopia but can't form Italian east \n",
              "...](https://www.reddit.com/r/hoi4/comments/xx2o0b/guys_im_confused_i_conquered_ethiopia_but_cant/)\n",
              "Oct 6, 2022 · Ethiopia has a focus that causes them to go into exile once they capitulate. They \"join\" allies \n",
              "(can't call anyone into the war) and the war \"keeps going\" (you don't even get the stability …\n",
              "\n",
              "[\"Colourism and Anti-Blackness are Real in Ethiopia\" says Weyni \n",
              "…](https://www.reddit.com/r/Ethiopia/comments/1d6piuu/colourism_and_antiblackness_are_real_in_ethiopia/)\n",
              "Ethiopia was doing that as recent as last this hour we are in. Ethiopia has history that history this but its \n",
              "history is painted with the blood of their African brothers, and the bones of their the brothers …\n",
              "\n",
              "[Moving to Addis Ababa, Ethiopia : r/expats - \n",
              "Reddit](https://www.reddit.com/r/expats/comments/x4lg79/moving_to_addis_ababa_ethiopia/)\n",
              "Sep 3, 2022 · It is very inexpensive to hire help in Ethiopia and I would encourage you to do so if you have the \n",
              "budget. You can make a huge difference to someone's life and they will be a huge help …\n",
              "\n",
              "[How safe is Ethiopia for a traveler? : r/Ethiopia - \n",
              "Reddit](https://www.reddit.com/r/Ethiopia/comments/11orbsz/how_safe_is_ethiopia_for_a_traveler/)\n",
              "Mar 11, 2023 · A subreddit for anything related to Ethiopia! Ethiopian History, Politics, Culture, Photographs, \n",
              "Buna, Injera, Wildlife, Discussion.\n",
              "\n",
              "[tips for playing as ethiopia ? : r/eu4 - \n",
              "Reddit](https://www.reddit.com/r/eu4/comments/10ocrwl/tips_for_playing_as_ethiopia/)\n",
              "Jan 29, 2023 · I just started playing Ethiopia yesterday. Basically follow the mission trees, which progressively \n",
              "give you claims on the land around you and use that as your “guide” for where to …\n",
              "\n",
              "[r/Ethiopia on Reddit: Has anyone been inside the Chapel of the \n",
              "…](https://www.reddit.com/r/Ethiopia/comments/16gxwrq/has_anyone_been_inside_the_chapel_of_the_tablet/)\n",
              "Sep 12, 2023 · Ethiopia has had so many wars during its long history that there must be some protocol for \n",
              "protecting the ark in times of upheaval. I also doubt that European historian in the …\n",
              "\n",
              "[Why do Ethiopians look indian? : r/Ethiopia - \n",
              "Reddit](https://www.reddit.com/r/Ethiopia/comments/18wv3cs/why_do_ethiopians_look_indian/)\n",
              "Jan 2, 2024 · Semitic groups, especially those in the extreme North like Gondar, Tigray, and Eritrea, have ancient \n",
              "Middle Eastern admixture, as well as more recent Sabean admixture, from Southern …\n",
              "\n",
              "[For anyone struggling in Ethopia as Italy, try building this ... - \n",
              "Reddit](https://www.reddit.com/r/hoi4/comments/xukbes/for_anyone_struggling_in_ethopia_as_italy_try/)\n",
              "You can capitulate Ethiopia before they board the train, making sure you don't get any stability penalties or high \n",
              "resistance. you do indeed just need to build the railroad, motorize your african …\n",
              "\n",
              "</pre>\n"
            ]
          },
          "metadata": {}
        },
        {
          "output_type": "display_data",
          "data": {
            "text/plain": [
              "\u001b[1;31mCode parsing failed on line 4 due to: SyntaxError\u001b[0m\n",
              "\u001b[1;31m</code]       ^\u001b[0m\n",
              "\u001b[1;31mError: unmatched ']' (<unknown>, line 4)\u001b[0m\n"
            ],
            "text/html": [
              "<pre style=\"white-space:pre;overflow-x:auto;line-height:normal;font-family:Menlo,'DejaVu Sans Mono',consolas,'Courier New',monospace\"><span style=\"color: #800000; text-decoration-color: #800000; font-weight: bold\">Code parsing failed on line 4 due to: SyntaxError</span>\n",
              "<span style=\"color: #800000; text-decoration-color: #800000; font-weight: bold\">&lt;/code]       ^</span>\n",
              "<span style=\"color: #800000; text-decoration-color: #800000; font-weight: bold\">Error: unmatched ']' (&lt;unknown&gt;, line 4)</span>\n",
              "</pre>\n"
            ]
          },
          "metadata": {}
        },
        {
          "output_type": "display_data",
          "data": {
            "text/plain": [
              "\u001b[2m[Step 6: Duration 0.78 seconds| Input tokens: 27,174 | Output tokens: 343]\u001b[0m\n"
            ],
            "text/html": [
              "<pre style=\"white-space:pre;overflow-x:auto;line-height:normal;font-family:Menlo,'DejaVu Sans Mono',consolas,'Courier New',monospace\"><span style=\"color: #7f7f7f; text-decoration-color: #7f7f7f\">[Step 6: Duration 0.78 seconds| Input tokens: 27,174 | Output tokens: 343]</span>\n",
              "</pre>\n"
            ]
          },
          "metadata": {}
        },
        {
          "output_type": "display_data",
          "data": {
            "text/plain": [
              "\u001b[38;2;212;183;2m━━━━━━━━━━━━━━━━━━━━━━━━━━━━━━━━━━━━━━━━━━━━━━━━━━━━━ \u001b[0m\u001b[1mStep 7\u001b[0m\u001b[38;2;212;183;2m ━━━━━━━━━━━━━━━━━━━━━━━━━━━━━━━━━━━━━━━━━━━━━━━━━━━━━━\u001b[0m\n"
            ],
            "text/html": [
              "<pre style=\"white-space:pre;overflow-x:auto;line-height:normal;font-family:Menlo,'DejaVu Sans Mono',consolas,'Courier New',monospace\"><span style=\"color: #d4b702; text-decoration-color: #d4b702\">━━━━━━━━━━━━━━━━━━━━━━━━━━━━━━━━━━━━━━━━━━━━━━━━━━━━━ </span><span style=\"font-weight: bold\">Step 7</span><span style=\"color: #d4b702; text-decoration-color: #d4b702\"> ━━━━━━━━━━━━━━━━━━━━━━━━━━━━━━━━━━━━━━━━━━━━━━━━━━━━━━</span>\n",
              "</pre>\n"
            ]
          },
          "metadata": {}
        },
        {
          "output_type": "display_data",
          "data": {
            "text/plain": [
              " ─ \u001b[1mExecuting parsed code:\u001b[0m ──────────────────────────────────────────────────────────────────────────────────────── \n",
              "  \u001b[38;2;248;248;242;48;2;39;40;34methiopia_eco_destinations\u001b[0m\u001b[38;2;248;248;242;48;2;39;40;34m \u001b[0m\u001b[38;2;255;70;137;48;2;39;40;34m=\u001b[0m\u001b[38;2;248;248;242;48;2;39;40;34m \u001b[0m\u001b[38;2;248;248;242;48;2;39;40;34mweb_search\u001b[0m\u001b[38;2;248;248;242;48;2;39;40;34m(\u001b[0m\u001b[38;2;230;219;116;48;2;39;40;34m\"\u001b[0m\u001b[38;2;230;219;116;48;2;39;40;34mtop eco-friendly travel destinations in Ethiopia\u001b[0m\u001b[38;2;230;219;116;48;2;39;40;34m\"\u001b[0m\u001b[38;2;248;248;242;48;2;39;40;34m)\u001b[0m\u001b[48;2;39;40;34m                     \u001b[0m  \n",
              "  \u001b[38;2;248;248;242;48;2;39;40;34mprint\u001b[0m\u001b[38;2;248;248;242;48;2;39;40;34m(\u001b[0m\u001b[38;2;230;219;116;48;2;39;40;34m\"\u001b[0m\u001b[38;2;230;219;116;48;2;39;40;34mTop eco-friendly travel destinations in Ethiopia:\u001b[0m\u001b[38;2;230;219;116;48;2;39;40;34m\"\u001b[0m\u001b[38;2;248;248;242;48;2;39;40;34m)\u001b[0m\u001b[48;2;39;40;34m                                                     \u001b[0m  \n",
              "  \u001b[38;2;248;248;242;48;2;39;40;34mprint\u001b[0m\u001b[38;2;248;248;242;48;2;39;40;34m(\u001b[0m\u001b[38;2;248;248;242;48;2;39;40;34methiopia_eco_destinations\u001b[0m\u001b[38;2;248;248;242;48;2;39;40;34m)\u001b[0m\u001b[48;2;39;40;34m                                                                               \u001b[0m  \n",
              " ───────────────────────────────────────────────────────────────────────────────────────────────────────────────── \n"
            ],
            "text/html": [
              "<pre style=\"white-space:pre;overflow-x:auto;line-height:normal;font-family:Menlo,'DejaVu Sans Mono',consolas,'Courier New',monospace\"> ─ <span style=\"font-weight: bold\">Executing parsed code:</span> ──────────────────────────────────────────────────────────────────────────────────────── \n",
              "  <span style=\"color: #f8f8f2; text-decoration-color: #f8f8f2; background-color: #272822\">ethiopia_eco_destinations </span><span style=\"color: #ff4689; text-decoration-color: #ff4689; background-color: #272822\">=</span><span style=\"color: #f8f8f2; text-decoration-color: #f8f8f2; background-color: #272822\"> web_search(</span><span style=\"color: #e6db74; text-decoration-color: #e6db74; background-color: #272822\">\"top eco-friendly travel destinations in Ethiopia\"</span><span style=\"color: #f8f8f2; text-decoration-color: #f8f8f2; background-color: #272822\">)</span><span style=\"background-color: #272822\">                     </span>  \n",
              "  <span style=\"color: #f8f8f2; text-decoration-color: #f8f8f2; background-color: #272822\">print(</span><span style=\"color: #e6db74; text-decoration-color: #e6db74; background-color: #272822\">\"Top eco-friendly travel destinations in Ethiopia:\"</span><span style=\"color: #f8f8f2; text-decoration-color: #f8f8f2; background-color: #272822\">)</span><span style=\"background-color: #272822\">                                                     </span>  \n",
              "  <span style=\"color: #f8f8f2; text-decoration-color: #f8f8f2; background-color: #272822\">print(ethiopia_eco_destinations)</span><span style=\"background-color: #272822\">                                                                               </span>  \n",
              " ───────────────────────────────────────────────────────────────────────────────────────────────────────────────── \n",
              "</pre>\n"
            ]
          },
          "metadata": {}
        },
        {
          "output_type": "display_data",
          "data": {
            "text/plain": [
              "\u001b[1mExecution logs:\u001b[0m\n",
              "Top eco-friendly travel destinations in Ethiopia:\n",
              "## Search Results\n",
              "\n",
              "[MOST Eco-friendly Tours & Trip Packages in Ethiopia 2024/2025 ...](https://www.bookmundi.com/y/ethiopia-eco-tours)\n",
              "The best eco tours in Ethiopia . Below you will see 10+ eco tours through Ethiopia that are all carbon offset. \n",
              "Bookmundi offsets the CO2 footprint on behalf of all the multiday tour companies that we work in Ethiopia by \n",
              "investing in wind, solar and tree planting projects around the world.\n",
              "\n",
              "[Ethiopia’s Eco-Friendly Highlands and Cultural \n",
              "Hotspots](https://greentravellist.com/green-travel-destinations/green-travel-to-ethiopia/)\n",
              "Feb 4, 2025 · Discover the pristine beauty of Ethiopia ' s eco - friendly highlands and cultural hotspots, where \n",
              "sustainable traditions await—what secrets will you uncover?\n",
              "\n",
              "[19 Best Eco-Friendly in Ethiopia - Top Eco-Friendly places to \n",
              "...](https://www.hellotravel.com/ethiopia/eco_friendly-places)\n",
              "19 Best Eco - Friendly Things To Do in Ethiopia (2025) - Find Top Interesting Activities To Do Ethiopia (2025) with\n",
              "Photos. Also find the list of Top Attractions Ethiopia 2025 with Photos.\n",
              "\n",
              "[Sustainable Travel in Ethiopia – Eco-Lodges & Tours | Tour \n",
              "...](https://tourhubethiopia.com/sustainable-travel-in-ethiopia/)\n",
              "Sep 17, 2025 · Whether you’re planning a trek in the Simien Mountains, visiting Lake Tana’s monasteries, or \n",
              "discovering the Danakil Depression, there are countless ways to travel ethically and make a positive impact.\n",
              "\n",
              "[Eco Travel Ethiopia Tours and Car Rental : Blog](https://www.ecotravelethiopia.com/blog)\n",
              "Ecotravel Ethiopia Tours and Car Rental offers you a complete travel experience with tailor-made sustainable \n",
              "adventures and convenient car rental services across Ethiopia .\n",
              "\n",
              "[Sustainable Travel with Sabeans Ethiopia Tours: Eco-Friendly \n",
              "...](https://sabeansethiopiatours.com/sustainable-travel-tips-and-destinations-for-eco-friendly-explorations/)\n",
              "From the mystical rock-hewn churches of Lalibela to the serene island monasteries of Lake Tana, our curated tours \n",
              "are designed to minimize environmental footprints while celebrating Ethiopia ’s profound legacy.\n",
              "\n",
              "[The Best Places to Visit in Ethiopia | The Ultimate \n",
              "List](https://www.brilliant-ethiopia.com/places-to-visit-in-ethiopia)\n",
              "Bale Mountains National Park The Bale Mountains are one of Ethiopia's most beautiful wilderness destinations. A \n",
              "verdant, jungle environment packed with endemic ...\n",
              "\n",
              "[Top 20 Ethiopia Travel Guide – 2025: An Expert's Critical \n",
              "...](https://anangtawiah.com/articles/details/Top+20+Ethiopia+Travel+Guide+–+2025:+An+Expert’s+Critical+Analysis-41\n",
              "2)\n",
              "As global interest in Ethiopia grows, this 2025 travel guide provides a meticulously researched, expert-backed \n",
              "breakdown of the Top 20 must-visit destinations , ...\n",
              "\n",
              "[Ethiopia - Adventure Travel with O.A.T.](https://www.oattravel.com/destinations/country/ethiopia)\n",
              "Top Experiences · Addis Ababa · Aksum · Bahir Dar · Gondar · Lalibela · Simien Mountains National Park.\n",
              "\n",
              "[THE BEST Ethiopia Eco-Friendly Hotels 2025 (with \n",
              "Prices)](https://www.tripadvisor.com/Hotels-g293790-zff24-Ethiopia-Hotels.html)\n",
              "Eco-Friendly Hotels in Ethiopia ; 1. Radisson Blu, Addis Ababa · (1,397 reviews). #1 Best Value of 3 Eco-Friendly \n",
              "Hotels in Ethiopia ; 2.\n",
              "\n",
              "Out: None\n"
            ],
            "text/html": [
              "<pre style=\"white-space:pre;overflow-x:auto;line-height:normal;font-family:Menlo,'DejaVu Sans Mono',consolas,'Courier New',monospace\"><span style=\"font-weight: bold\">Execution logs:</span>\n",
              "Top eco-friendly travel destinations in Ethiopia:\n",
              "## Search Results\n",
              "\n",
              "[MOST Eco-friendly Tours &amp; Trip Packages in Ethiopia 2024/2025 ...](https://www.bookmundi.com/y/ethiopia-eco-tours)\n",
              "The best eco tours in Ethiopia . Below you will see 10+ eco tours through Ethiopia that are all carbon offset. \n",
              "Bookmundi offsets the CO2 footprint on behalf of all the multiday tour companies that we work in Ethiopia by \n",
              "investing in wind, solar and tree planting projects around the world.\n",
              "\n",
              "[Ethiopia’s Eco-Friendly Highlands and Cultural \n",
              "Hotspots](https://greentravellist.com/green-travel-destinations/green-travel-to-ethiopia/)\n",
              "Feb 4, 2025 · Discover the pristine beauty of Ethiopia ' s eco - friendly highlands and cultural hotspots, where \n",
              "sustainable traditions await—what secrets will you uncover?\n",
              "\n",
              "[19 Best Eco-Friendly in Ethiopia - Top Eco-Friendly places to \n",
              "...](https://www.hellotravel.com/ethiopia/eco_friendly-places)\n",
              "19 Best Eco - Friendly Things To Do in Ethiopia (2025) - Find Top Interesting Activities To Do Ethiopia (2025) with\n",
              "Photos. Also find the list of Top Attractions Ethiopia 2025 with Photos.\n",
              "\n",
              "[Sustainable Travel in Ethiopia – Eco-Lodges &amp; Tours | Tour \n",
              "...](https://tourhubethiopia.com/sustainable-travel-in-ethiopia/)\n",
              "Sep 17, 2025 · Whether you’re planning a trek in the Simien Mountains, visiting Lake Tana’s monasteries, or \n",
              "discovering the Danakil Depression, there are countless ways to travel ethically and make a positive impact.\n",
              "\n",
              "[Eco Travel Ethiopia Tours and Car Rental : Blog](https://www.ecotravelethiopia.com/blog)\n",
              "Ecotravel Ethiopia Tours and Car Rental offers you a complete travel experience with tailor-made sustainable \n",
              "adventures and convenient car rental services across Ethiopia .\n",
              "\n",
              "[Sustainable Travel with Sabeans Ethiopia Tours: Eco-Friendly \n",
              "...](https://sabeansethiopiatours.com/sustainable-travel-tips-and-destinations-for-eco-friendly-explorations/)\n",
              "From the mystical rock-hewn churches of Lalibela to the serene island monasteries of Lake Tana, our curated tours \n",
              "are designed to minimize environmental footprints while celebrating Ethiopia ’s profound legacy.\n",
              "\n",
              "[The Best Places to Visit in Ethiopia | The Ultimate \n",
              "List](https://www.brilliant-ethiopia.com/places-to-visit-in-ethiopia)\n",
              "Bale Mountains National Park The Bale Mountains are one of Ethiopia's most beautiful wilderness destinations. A \n",
              "verdant, jungle environment packed with endemic ...\n",
              "\n",
              "[Top 20 Ethiopia Travel Guide – 2025: An Expert's Critical \n",
              "...](https://anangtawiah.com/articles/details/Top+20+Ethiopia+Travel+Guide+–+2025:+An+Expert’s+Critical+Analysis-41\n",
              "2)\n",
              "As global interest in Ethiopia grows, this 2025 travel guide provides a meticulously researched, expert-backed \n",
              "breakdown of the Top 20 must-visit destinations , ...\n",
              "\n",
              "[Ethiopia - Adventure Travel with O.A.T.](https://www.oattravel.com/destinations/country/ethiopia)\n",
              "Top Experiences · Addis Ababa · Aksum · Bahir Dar · Gondar · Lalibela · Simien Mountains National Park.\n",
              "\n",
              "[THE BEST Ethiopia Eco-Friendly Hotels 2025 (with \n",
              "Prices)](https://www.tripadvisor.com/Hotels-g293790-zff24-Ethiopia-Hotels.html)\n",
              "Eco-Friendly Hotels in Ethiopia ; 1. Radisson Blu, Addis Ababa · (1,397 reviews). #1 Best Value of 3 Eco-Friendly \n",
              "Hotels in Ethiopia ; 2.\n",
              "\n",
              "Out: None\n",
              "</pre>\n"
            ]
          },
          "metadata": {}
        },
        {
          "output_type": "display_data",
          "data": {
            "text/plain": [
              "\u001b[2m[Step 7: Duration 2.31 seconds| Input tokens: 35,209 | Output tokens: 408]\u001b[0m\n"
            ],
            "text/html": [
              "<pre style=\"white-space:pre;overflow-x:auto;line-height:normal;font-family:Menlo,'DejaVu Sans Mono',consolas,'Courier New',monospace\"><span style=\"color: #7f7f7f; text-decoration-color: #7f7f7f\">[Step 7: Duration 2.31 seconds| Input tokens: 35,209 | Output tokens: 408]</span>\n",
              "</pre>\n"
            ]
          },
          "metadata": {}
        },
        {
          "output_type": "display_data",
          "data": {
            "text/plain": [
              "\u001b[38;2;212;183;2m━━━━━━━━━━━━━━━━━━━━━━━━━━━━━━━━━━━━━━━━━━━━━━━━━━━━━ \u001b[0m\u001b[1mStep 8\u001b[0m\u001b[38;2;212;183;2m ━━━━━━━━━━━━━━━━━━━━━━━━━━━━━━━━━━━━━━━━━━━━━━━━━━━━━━\u001b[0m\n"
            ],
            "text/html": [
              "<pre style=\"white-space:pre;overflow-x:auto;line-height:normal;font-family:Menlo,'DejaVu Sans Mono',consolas,'Courier New',monospace\"><span style=\"color: #d4b702; text-decoration-color: #d4b702\">━━━━━━━━━━━━━━━━━━━━━━━━━━━━━━━━━━━━━━━━━━━━━━━━━━━━━ </span><span style=\"font-weight: bold\">Step 8</span><span style=\"color: #d4b702; text-decoration-color: #d4b702\"> ━━━━━━━━━━━━━━━━━━━━━━━━━━━━━━━━━━━━━━━━━━━━━━━━━━━━━━</span>\n",
              "</pre>\n"
            ]
          },
          "metadata": {}
        },
        {
          "output_type": "display_data",
          "data": {
            "text/plain": [
              " ─ \u001b[1mExecuting parsed code:\u001b[0m ──────────────────────────────────────────────────────────────────────────────────────── \n",
              "  \u001b[38;2;248;248;242;48;2;39;40;34mfinal_answer\u001b[0m\u001b[38;2;248;248;242;48;2;39;40;34m(\u001b[0m\u001b[38;2;230;219;116;48;2;39;40;34m\"\"\"\u001b[0m\u001b[48;2;39;40;34m                                                                                               \u001b[0m  \n",
              "  \u001b[38;2;230;219;116;48;2;39;40;34mPopular Eco-Friendly Travel Destinations and Sustainable Activities in Ethiopia:\u001b[0m\u001b[48;2;39;40;34m                               \u001b[0m  \n",
              "  \u001b[48;2;39;40;34m                                                                                                               \u001b[0m  \n",
              "  \u001b[38;2;230;219;116;48;2;39;40;34mNature Reserves & Protected Areas:\u001b[0m\u001b[48;2;39;40;34m                                                                             \u001b[0m  \n",
              "  \u001b[38;2;230;219;116;48;2;39;40;34m- Bale Mountains National Park - Known for its unique biodiversity and endemic species like the Ethiopian wolf\u001b[0m\u001b[48;2;39;40;34m \u001b[0m  \n",
              "  \u001b[38;2;230;219;116;48;2;39;40;34m- Simien Mountains National Park - UNESCO World Heritage site with incredible wildlife and landscapes\u001b[0m\u001b[48;2;39;40;34m          \u001b[0m  \n",
              "  \u001b[38;2;230;219;116;48;2;39;40;34m- Lake Tana - Home to numerous monasteries and birdwatching opportunities\u001b[0m\u001b[48;2;39;40;34m                                      \u001b[0m  \n",
              "  \u001b[38;2;230;219;116;48;2;39;40;34m- Danakil Depression - Unique geological formations and ethnographic sites\u001b[0m\u001b[48;2;39;40;34m                                     \u001b[0m  \n",
              "  \u001b[48;2;39;40;34m                                                                                                               \u001b[0m  \n",
              "  \u001b[38;2;230;219;116;48;2;39;40;34mEco-Lodges:\u001b[0m\u001b[48;2;39;40;34m                                                                                                    \u001b[0m  \n",
              "  \u001b[38;2;230;219;116;48;2;39;40;34m- Bale Mountain Lodge - Located in Bale Mountains National Park \u001b[0m\u001b[48;2;39;40;34m                                               \u001b[0m  \n",
              "  \u001b[38;2;230;219;116;48;2;39;40;34m- Befiker Kossoye Eco Lodge - Near Gondar with views of the Semien Mountains\u001b[0m\u001b[48;2;39;40;34m                                   \u001b[0m  \n",
              "  \u001b[38;2;230;219;116;48;2;39;40;34m- Hara Langano Eco Lodge - On the shore of Lake Langano\u001b[0m\u001b[48;2;39;40;34m                                                        \u001b[0m  \n",
              "  \u001b[38;2;230;219;116;48;2;39;40;34m- Wanchi Ija Eco Lodge - Located on picturesque Wanchi Crater Lake\u001b[0m\u001b[48;2;39;40;34m                                             \u001b[0m  \n",
              "  \u001b[38;2;230;219;116;48;2;39;40;34m- Paradise Lodge Arbaminch - Award-winning eco-lodge in the Great Rift Valley\u001b[0m\u001b[48;2;39;40;34m                                  \u001b[0m  \n",
              "  \u001b[38;2;230;219;116;48;2;39;40;34m- Tribal Life Eco Lodge - First lodge located inside a tribal village\u001b[0m\u001b[48;2;39;40;34m                                          \u001b[0m  \n",
              "  \u001b[38;2;230;219;116;48;2;39;40;34m- Bishangari Lodge - Secluded oasis in Ethiopia\u001b[0m\u001b[38;2;230;219;116;48;2;39;40;34m'\u001b[0m\u001b[38;2;230;219;116;48;2;39;40;34ms Rift Valley\u001b[0m\u001b[48;2;39;40;34m                                                  \u001b[0m  \n",
              "  \u001b[48;2;39;40;34m                                                                                                               \u001b[0m  \n",
              "  \u001b[38;2;230;219;116;48;2;39;40;34mSustainable Activities:\u001b[0m\u001b[48;2;39;40;34m                                                                                        \u001b[0m  \n",
              "  \u001b[38;2;230;219;116;48;2;39;40;34m- Community-based cultural tours that support local communities\u001b[0m\u001b[48;2;39;40;34m                                                \u001b[0m  \n",
              "  \u001b[38;2;230;219;116;48;2;39;40;34m- Guided nature walks with resident naturalists to spot endemic species\u001b[0m\u001b[48;2;39;40;34m                                        \u001b[0m  \n",
              "  \u001b[38;2;230;219;116;48;2;39;40;34m- Responsible wildlife watching and birdwatching\u001b[0m\u001b[48;2;39;40;34m                                                               \u001b[0m  \n",
              "  \u001b[38;2;230;219;116;48;2;39;40;34m- Visiting ancient churches and monasteries (like those in Lalibela)\u001b[0m\u001b[48;2;39;40;34m                                           \u001b[0m  \n",
              "  \u001b[38;2;230;219;116;48;2;39;40;34m- Exploring mountain trails and cultural villages\u001b[0m\u001b[48;2;39;40;34m                                                              \u001b[0m  \n",
              "  \u001b[38;2;230;219;116;48;2;39;40;34m- Sustainable transportation options like bamboo bikes\u001b[0m\u001b[48;2;39;40;34m                                                         \u001b[0m  \n",
              "  \u001b[38;2;230;219;116;48;2;39;40;34m- Plant-based culinary experiences\u001b[0m\u001b[48;2;39;40;34m                                                                             \u001b[0m  \n",
              "  \u001b[48;2;39;40;34m                                                                                                               \u001b[0m  \n",
              "  \u001b[38;2;230;219;116;48;2;39;40;34mEthiopia offers a unique blend of natural beauty, rich cultural heritage, and growing sustainable tourism \u001b[0m\u001b[48;2;39;40;34m     \u001b[0m  \n",
              "  \u001b[38;2;230;219;116;48;2;39;40;34minitiatives that allow visitors to have meaningful experiences while supporting local communities and \u001b[0m\u001b[48;2;39;40;34m         \u001b[0m  \n",
              "  \u001b[38;2;230;219;116;48;2;39;40;34mprotecting the environment.\u001b[0m\u001b[48;2;39;40;34m                                                                                    \u001b[0m  \n",
              "  \u001b[38;2;230;219;116;48;2;39;40;34m\"\"\"\u001b[0m\u001b[38;2;248;248;242;48;2;39;40;34m)\u001b[0m\u001b[48;2;39;40;34m                                                                                                           \u001b[0m  \n",
              " ───────────────────────────────────────────────────────────────────────────────────────────────────────────────── \n"
            ],
            "text/html": [
              "<pre style=\"white-space:pre;overflow-x:auto;line-height:normal;font-family:Menlo,'DejaVu Sans Mono',consolas,'Courier New',monospace\"> ─ <span style=\"font-weight: bold\">Executing parsed code:</span> ──────────────────────────────────────────────────────────────────────────────────────── \n",
              "  <span style=\"color: #f8f8f2; text-decoration-color: #f8f8f2; background-color: #272822\">final_answer(</span><span style=\"color: #e6db74; text-decoration-color: #e6db74; background-color: #272822\">\"\"\"</span><span style=\"background-color: #272822\">                                                                                               </span>  \n",
              "  <span style=\"color: #e6db74; text-decoration-color: #e6db74; background-color: #272822\">Popular Eco-Friendly Travel Destinations and Sustainable Activities in Ethiopia:</span><span style=\"background-color: #272822\">                               </span>  \n",
              "  <span style=\"background-color: #272822\">                                                                                                               </span>  \n",
              "  <span style=\"color: #e6db74; text-decoration-color: #e6db74; background-color: #272822\">Nature Reserves &amp; Protected Areas:</span><span style=\"background-color: #272822\">                                                                             </span>  \n",
              "  <span style=\"color: #e6db74; text-decoration-color: #e6db74; background-color: #272822\">- Bale Mountains National Park - Known for its unique biodiversity and endemic species like the Ethiopian wolf</span><span style=\"background-color: #272822\"> </span>  \n",
              "  <span style=\"color: #e6db74; text-decoration-color: #e6db74; background-color: #272822\">- Simien Mountains National Park - UNESCO World Heritage site with incredible wildlife and landscapes</span><span style=\"background-color: #272822\">          </span>  \n",
              "  <span style=\"color: #e6db74; text-decoration-color: #e6db74; background-color: #272822\">- Lake Tana - Home to numerous monasteries and birdwatching opportunities</span><span style=\"background-color: #272822\">                                      </span>  \n",
              "  <span style=\"color: #e6db74; text-decoration-color: #e6db74; background-color: #272822\">- Danakil Depression - Unique geological formations and ethnographic sites</span><span style=\"background-color: #272822\">                                     </span>  \n",
              "  <span style=\"background-color: #272822\">                                                                                                               </span>  \n",
              "  <span style=\"color: #e6db74; text-decoration-color: #e6db74; background-color: #272822\">Eco-Lodges:</span><span style=\"background-color: #272822\">                                                                                                    </span>  \n",
              "  <span style=\"color: #e6db74; text-decoration-color: #e6db74; background-color: #272822\">- Bale Mountain Lodge - Located in Bale Mountains National Park </span><span style=\"background-color: #272822\">                                               </span>  \n",
              "  <span style=\"color: #e6db74; text-decoration-color: #e6db74; background-color: #272822\">- Befiker Kossoye Eco Lodge - Near Gondar with views of the Semien Mountains</span><span style=\"background-color: #272822\">                                   </span>  \n",
              "  <span style=\"color: #e6db74; text-decoration-color: #e6db74; background-color: #272822\">- Hara Langano Eco Lodge - On the shore of Lake Langano</span><span style=\"background-color: #272822\">                                                        </span>  \n",
              "  <span style=\"color: #e6db74; text-decoration-color: #e6db74; background-color: #272822\">- Wanchi Ija Eco Lodge - Located on picturesque Wanchi Crater Lake</span><span style=\"background-color: #272822\">                                             </span>  \n",
              "  <span style=\"color: #e6db74; text-decoration-color: #e6db74; background-color: #272822\">- Paradise Lodge Arbaminch - Award-winning eco-lodge in the Great Rift Valley</span><span style=\"background-color: #272822\">                                  </span>  \n",
              "  <span style=\"color: #e6db74; text-decoration-color: #e6db74; background-color: #272822\">- Tribal Life Eco Lodge - First lodge located inside a tribal village</span><span style=\"background-color: #272822\">                                          </span>  \n",
              "  <span style=\"color: #e6db74; text-decoration-color: #e6db74; background-color: #272822\">- Bishangari Lodge - Secluded oasis in Ethiopia's Rift Valley</span><span style=\"background-color: #272822\">                                                  </span>  \n",
              "  <span style=\"background-color: #272822\">                                                                                                               </span>  \n",
              "  <span style=\"color: #e6db74; text-decoration-color: #e6db74; background-color: #272822\">Sustainable Activities:</span><span style=\"background-color: #272822\">                                                                                        </span>  \n",
              "  <span style=\"color: #e6db74; text-decoration-color: #e6db74; background-color: #272822\">- Community-based cultural tours that support local communities</span><span style=\"background-color: #272822\">                                                </span>  \n",
              "  <span style=\"color: #e6db74; text-decoration-color: #e6db74; background-color: #272822\">- Guided nature walks with resident naturalists to spot endemic species</span><span style=\"background-color: #272822\">                                        </span>  \n",
              "  <span style=\"color: #e6db74; text-decoration-color: #e6db74; background-color: #272822\">- Responsible wildlife watching and birdwatching</span><span style=\"background-color: #272822\">                                                               </span>  \n",
              "  <span style=\"color: #e6db74; text-decoration-color: #e6db74; background-color: #272822\">- Visiting ancient churches and monasteries (like those in Lalibela)</span><span style=\"background-color: #272822\">                                           </span>  \n",
              "  <span style=\"color: #e6db74; text-decoration-color: #e6db74; background-color: #272822\">- Exploring mountain trails and cultural villages</span><span style=\"background-color: #272822\">                                                              </span>  \n",
              "  <span style=\"color: #e6db74; text-decoration-color: #e6db74; background-color: #272822\">- Sustainable transportation options like bamboo bikes</span><span style=\"background-color: #272822\">                                                         </span>  \n",
              "  <span style=\"color: #e6db74; text-decoration-color: #e6db74; background-color: #272822\">- Plant-based culinary experiences</span><span style=\"background-color: #272822\">                                                                             </span>  \n",
              "  <span style=\"background-color: #272822\">                                                                                                               </span>  \n",
              "  <span style=\"color: #e6db74; text-decoration-color: #e6db74; background-color: #272822\">Ethiopia offers a unique blend of natural beauty, rich cultural heritage, and growing sustainable tourism </span><span style=\"background-color: #272822\">     </span>  \n",
              "  <span style=\"color: #e6db74; text-decoration-color: #e6db74; background-color: #272822\">initiatives that allow visitors to have meaningful experiences while supporting local communities and </span><span style=\"background-color: #272822\">         </span>  \n",
              "  <span style=\"color: #e6db74; text-decoration-color: #e6db74; background-color: #272822\">protecting the environment.</span><span style=\"background-color: #272822\">                                                                                    </span>  \n",
              "  <span style=\"color: #e6db74; text-decoration-color: #e6db74; background-color: #272822\">\"\"\"</span><span style=\"color: #f8f8f2; text-decoration-color: #f8f8f2; background-color: #272822\">)</span><span style=\"background-color: #272822\">                                                                                                           </span>  \n",
              " ───────────────────────────────────────────────────────────────────────────────────────────────────────────────── \n",
              "</pre>\n"
            ]
          },
          "metadata": {}
        },
        {
          "output_type": "display_data",
          "data": {
            "text/plain": [],
            "text/html": [
              "<pre style=\"white-space:pre;overflow-x:auto;line-height:normal;font-family:Menlo,'DejaVu Sans Mono',consolas,'Courier New',monospace\"></pre>\n"
            ]
          },
          "metadata": {}
        },
        {
          "output_type": "display_data",
          "data": {
            "text/plain": [
              "\u001b[1;38;2;212;183;2mFinal answer: \u001b[0m\n",
              "\u001b[1;38;2;212;183;2mPopular Eco-Friendly Travel Destinations and Sustainable Activities in Ethiopia:\u001b[0m\n",
              "\n",
              "\u001b[1;38;2;212;183;2mNature Reserves & Protected Areas:\u001b[0m\n",
              "\u001b[1;38;2;212;183;2m- Bale Mountains National Park - Known for its unique biodiversity and endemic species like the Ethiopian wolf\u001b[0m\n",
              "\u001b[1;38;2;212;183;2m- Simien Mountains National Park - UNESCO World Heritage site with incredible wildlife and landscapes\u001b[0m\n",
              "\u001b[1;38;2;212;183;2m- Lake Tana - Home to numerous monasteries and birdwatching opportunities\u001b[0m\n",
              "\u001b[1;38;2;212;183;2m- Danakil Depression - Unique geological formations and ethnographic sites\u001b[0m\n",
              "\n",
              "\u001b[1;38;2;212;183;2mEco-Lodges:\u001b[0m\n",
              "\u001b[1;38;2;212;183;2m- Bale Mountain Lodge - Located in Bale Mountains National Park \u001b[0m\n",
              "\u001b[1;38;2;212;183;2m- Befiker Kossoye Eco Lodge - Near Gondar with views of the Semien Mountains\u001b[0m\n",
              "\u001b[1;38;2;212;183;2m- Hara Langano Eco Lodge - On the shore of Lake Langano\u001b[0m\n",
              "\u001b[1;38;2;212;183;2m- Wanchi Ija Eco Lodge - Located on picturesque Wanchi Crater Lake\u001b[0m\n",
              "\u001b[1;38;2;212;183;2m- Paradise Lodge Arbaminch - Award-winning eco-lodge in the Great Rift Valley\u001b[0m\n",
              "\u001b[1;38;2;212;183;2m- Tribal Life Eco Lodge - First lodge located inside a tribal village\u001b[0m\n",
              "\u001b[1;38;2;212;183;2m- Bishangari Lodge - Secluded oasis in Ethiopia's Rift Valley\u001b[0m\n",
              "\n",
              "\u001b[1;38;2;212;183;2mSustainable Activities:\u001b[0m\n",
              "\u001b[1;38;2;212;183;2m- Community-based cultural tours that support local communities\u001b[0m\n",
              "\u001b[1;38;2;212;183;2m- Guided nature walks with resident naturalists to spot endemic species\u001b[0m\n",
              "\u001b[1;38;2;212;183;2m- Responsible wildlife watching and birdwatching\u001b[0m\n",
              "\u001b[1;38;2;212;183;2m- Visiting ancient churches and monasteries (like those in Lalibela)\u001b[0m\n",
              "\u001b[1;38;2;212;183;2m- Exploring mountain trails and cultural villages\u001b[0m\n",
              "\u001b[1;38;2;212;183;2m- Sustainable transportation options like bamboo bikes\u001b[0m\n",
              "\u001b[1;38;2;212;183;2m- Plant-based culinary experiences\u001b[0m\n",
              "\n",
              "\u001b[1;38;2;212;183;2mEthiopia offers a unique blend of natural beauty, rich cultural heritage, and growing sustainable tourism \u001b[0m\n",
              "\u001b[1;38;2;212;183;2minitiatives that allow visitors to have meaningful experiences while supporting local communities and protecting \u001b[0m\n",
              "\u001b[1;38;2;212;183;2mthe environment.\u001b[0m\n",
              "\n"
            ],
            "text/html": [
              "<pre style=\"white-space:pre;overflow-x:auto;line-height:normal;font-family:Menlo,'DejaVu Sans Mono',consolas,'Courier New',monospace\"><span style=\"color: #d4b702; text-decoration-color: #d4b702; font-weight: bold\">Final answer: </span>\n",
              "<span style=\"color: #d4b702; text-decoration-color: #d4b702; font-weight: bold\">Popular Eco-Friendly Travel Destinations and Sustainable Activities in Ethiopia:</span>\n",
              "\n",
              "<span style=\"color: #d4b702; text-decoration-color: #d4b702; font-weight: bold\">Nature Reserves &amp; Protected Areas:</span>\n",
              "<span style=\"color: #d4b702; text-decoration-color: #d4b702; font-weight: bold\">- Bale Mountains National Park - Known for its unique biodiversity and endemic species like the Ethiopian wolf</span>\n",
              "<span style=\"color: #d4b702; text-decoration-color: #d4b702; font-weight: bold\">- Simien Mountains National Park - UNESCO World Heritage site with incredible wildlife and landscapes</span>\n",
              "<span style=\"color: #d4b702; text-decoration-color: #d4b702; font-weight: bold\">- Lake Tana - Home to numerous monasteries and birdwatching opportunities</span>\n",
              "<span style=\"color: #d4b702; text-decoration-color: #d4b702; font-weight: bold\">- Danakil Depression - Unique geological formations and ethnographic sites</span>\n",
              "\n",
              "<span style=\"color: #d4b702; text-decoration-color: #d4b702; font-weight: bold\">Eco-Lodges:</span>\n",
              "<span style=\"color: #d4b702; text-decoration-color: #d4b702; font-weight: bold\">- Bale Mountain Lodge - Located in Bale Mountains National Park </span>\n",
              "<span style=\"color: #d4b702; text-decoration-color: #d4b702; font-weight: bold\">- Befiker Kossoye Eco Lodge - Near Gondar with views of the Semien Mountains</span>\n",
              "<span style=\"color: #d4b702; text-decoration-color: #d4b702; font-weight: bold\">- Hara Langano Eco Lodge - On the shore of Lake Langano</span>\n",
              "<span style=\"color: #d4b702; text-decoration-color: #d4b702; font-weight: bold\">- Wanchi Ija Eco Lodge - Located on picturesque Wanchi Crater Lake</span>\n",
              "<span style=\"color: #d4b702; text-decoration-color: #d4b702; font-weight: bold\">- Paradise Lodge Arbaminch - Award-winning eco-lodge in the Great Rift Valley</span>\n",
              "<span style=\"color: #d4b702; text-decoration-color: #d4b702; font-weight: bold\">- Tribal Life Eco Lodge - First lodge located inside a tribal village</span>\n",
              "<span style=\"color: #d4b702; text-decoration-color: #d4b702; font-weight: bold\">- Bishangari Lodge - Secluded oasis in Ethiopia's Rift Valley</span>\n",
              "\n",
              "<span style=\"color: #d4b702; text-decoration-color: #d4b702; font-weight: bold\">Sustainable Activities:</span>\n",
              "<span style=\"color: #d4b702; text-decoration-color: #d4b702; font-weight: bold\">- Community-based cultural tours that support local communities</span>\n",
              "<span style=\"color: #d4b702; text-decoration-color: #d4b702; font-weight: bold\">- Guided nature walks with resident naturalists to spot endemic species</span>\n",
              "<span style=\"color: #d4b702; text-decoration-color: #d4b702; font-weight: bold\">- Responsible wildlife watching and birdwatching</span>\n",
              "<span style=\"color: #d4b702; text-decoration-color: #d4b702; font-weight: bold\">- Visiting ancient churches and monasteries (like those in Lalibela)</span>\n",
              "<span style=\"color: #d4b702; text-decoration-color: #d4b702; font-weight: bold\">- Exploring mountain trails and cultural villages</span>\n",
              "<span style=\"color: #d4b702; text-decoration-color: #d4b702; font-weight: bold\">- Sustainable transportation options like bamboo bikes</span>\n",
              "<span style=\"color: #d4b702; text-decoration-color: #d4b702; font-weight: bold\">- Plant-based culinary experiences</span>\n",
              "\n",
              "<span style=\"color: #d4b702; text-decoration-color: #d4b702; font-weight: bold\">Ethiopia offers a unique blend of natural beauty, rich cultural heritage, and growing sustainable tourism </span>\n",
              "<span style=\"color: #d4b702; text-decoration-color: #d4b702; font-weight: bold\">initiatives that allow visitors to have meaningful experiences while supporting local communities and protecting </span>\n",
              "<span style=\"color: #d4b702; text-decoration-color: #d4b702; font-weight: bold\">the environment.</span>\n",
              "\n",
              "</pre>\n"
            ]
          },
          "metadata": {}
        },
        {
          "output_type": "display_data",
          "data": {
            "text/plain": [
              "\u001b[2m[Step 8: Duration 3.69 seconds| Input tokens: 44,228 | Output tokens: 770]\u001b[0m\n"
            ],
            "text/html": [
              "<pre style=\"white-space:pre;overflow-x:auto;line-height:normal;font-family:Menlo,'DejaVu Sans Mono',consolas,'Courier New',monospace\"><span style=\"color: #7f7f7f; text-decoration-color: #7f7f7f\">[Step 8: Duration 3.69 seconds| Input tokens: 44,228 | Output tokens: 770]</span>\n",
              "</pre>\n"
            ]
          },
          "metadata": {}
        },
        {
          "output_type": "stream",
          "name": "stdout",
          "text": [
            "Web Search Agent Response:\n",
            " \n",
            "Popular Eco-Friendly Travel Destinations and Sustainable Activities in Ethiopia:\n",
            "\n",
            "Nature Reserves & Protected Areas:\n",
            "- Bale Mountains National Park - Known for its unique biodiversity and endemic species like the Ethiopian wolf\n",
            "- Simien Mountains National Park - UNESCO World Heritage site with incredible wildlife and landscapes\n",
            "- Lake Tana - Home to numerous monasteries and birdwatching opportunities\n",
            "- Danakil Depression - Unique geological formations and ethnographic sites\n",
            "\n",
            "Eco-Lodges:\n",
            "- Bale Mountain Lodge - Located in Bale Mountains National Park \n",
            "- Befiker Kossoye Eco Lodge - Near Gondar with views of the Semien Mountains\n",
            "- Hara Langano Eco Lodge - On the shore of Lake Langano\n",
            "- Wanchi Ija Eco Lodge - Located on picturesque Wanchi Crater Lake\n",
            "- Paradise Lodge Arbaminch - Award-winning eco-lodge in the Great Rift Valley\n",
            "- Tribal Life Eco Lodge - First lodge located inside a tribal village\n",
            "- Bishangari Lodge - Secluded oasis in Ethiopia's Rift Valley\n",
            "\n",
            "Sustainable Activities:\n",
            "- Community-based cultural tours that support local communities\n",
            "- Guided nature walks with resident naturalists to spot endemic species\n",
            "- Responsible wildlife watching and birdwatching\n",
            "- Visiting ancient churches and monasteries (like those in Lalibela)\n",
            "- Exploring mountain trails and cultural villages\n",
            "- Sustainable transportation options like bamboo bikes\n",
            "- Plant-based culinary experiences\n",
            "\n",
            "Ethiopia offers a unique blend of natural beauty, rich cultural heritage, and growing sustainable tourism initiatives that allow visitors to have meaningful experiences while supporting local communities and protecting the environment.\n",
            "\n"
          ]
        }
      ]
    },
    {
      "cell_type": "markdown",
      "metadata": {
        "id": "bJWn_FDN47u3"
      },
      "source": [
        "## Section 3: Custom Knowledge Base Tool\n",
        "\n",
        "\n"
      ]
    },
    {
      "cell_type": "code",
      "execution_count": 7,
      "metadata": {
        "colab": {
          "base_uri": "https://localhost:8080/",
          "height": 1000
        },
        "id": "MRNJkqyR43F-",
        "outputId": "c9fd26de-ddf1-460e-e2b5-000a7f5069ae"
      },
      "outputs": [
        {
          "output_type": "display_data",
          "data": {
            "text/plain": [
              "\u001b[38;2;212;183;2m╭─\u001b[0m\u001b[38;2;212;183;2m───────────────────────────────────────────────────\u001b[0m\u001b[38;2;212;183;2m \u001b[0m\u001b[1;38;2;212;183;2mNew run\u001b[0m\u001b[38;2;212;183;2m \u001b[0m\u001b[38;2;212;183;2m───────────────────────────────────────────────────\u001b[0m\u001b[38;2;212;183;2m─╮\u001b[0m\n",
              "\u001b[38;2;212;183;2m│\u001b[0m                                                                                                                 \u001b[38;2;212;183;2m│\u001b[0m\n",
              "\u001b[38;2;212;183;2m│\u001b[0m \u001b[1mFind sustainable travel ideas for visiting Ethiopia, including places to stay, activities, and eco-friendly \u001b[0m    \u001b[38;2;212;183;2m│\u001b[0m\n",
              "\u001b[38;2;212;183;2m│\u001b[0m \u001b[1mtips.\u001b[0m                                                                                                           \u001b[38;2;212;183;2m│\u001b[0m\n",
              "\u001b[38;2;212;183;2m│\u001b[0m                                                                                                                 \u001b[38;2;212;183;2m│\u001b[0m\n",
              "\u001b[38;2;212;183;2m╰─\u001b[0m\u001b[38;2;212;183;2m InferenceClientModel - Qwen/Qwen3-Coder-30B-A3B-Instruct \u001b[0m\u001b[38;2;212;183;2m─────────────────────────────────────────────────────\u001b[0m\u001b[38;2;212;183;2m─╯\u001b[0m\n"
            ],
            "text/html": [
              "<pre style=\"white-space:pre;overflow-x:auto;line-height:normal;font-family:Menlo,'DejaVu Sans Mono',consolas,'Courier New',monospace\"><span style=\"color: #d4b702; text-decoration-color: #d4b702\">╭──────────────────────────────────────────────────── </span><span style=\"color: #d4b702; text-decoration-color: #d4b702; font-weight: bold\">New run</span><span style=\"color: #d4b702; text-decoration-color: #d4b702\"> ────────────────────────────────────────────────────╮</span>\n",
              "<span style=\"color: #d4b702; text-decoration-color: #d4b702\">│</span>                                                                                                                 <span style=\"color: #d4b702; text-decoration-color: #d4b702\">│</span>\n",
              "<span style=\"color: #d4b702; text-decoration-color: #d4b702\">│</span> <span style=\"font-weight: bold\">Find sustainable travel ideas for visiting Ethiopia, including places to stay, activities, and eco-friendly </span>    <span style=\"color: #d4b702; text-decoration-color: #d4b702\">│</span>\n",
              "<span style=\"color: #d4b702; text-decoration-color: #d4b702\">│</span> <span style=\"font-weight: bold\">tips.</span>                                                                                                           <span style=\"color: #d4b702; text-decoration-color: #d4b702\">│</span>\n",
              "<span style=\"color: #d4b702; text-decoration-color: #d4b702\">│</span>                                                                                                                 <span style=\"color: #d4b702; text-decoration-color: #d4b702\">│</span>\n",
              "<span style=\"color: #d4b702; text-decoration-color: #d4b702\">╰─ InferenceClientModel - Qwen/Qwen3-Coder-30B-A3B-Instruct ──────────────────────────────────────────────────────╯</span>\n",
              "</pre>\n"
            ]
          },
          "metadata": {}
        },
        {
          "output_type": "display_data",
          "data": {
            "text/plain": [
              "\u001b[38;2;212;183;2m━━━━━━━━━━━━━━━━━━━━━━━━━━━━━━━━━━━━━━━━━━━━━━━━━━━━━ \u001b[0m\u001b[1mStep 1\u001b[0m\u001b[38;2;212;183;2m ━━━━━━━━━━━━━━━━━━━━━━━━━━━━━━━━━━━━━━━━━━━━━━━━━━━━━━\u001b[0m\n"
            ],
            "text/html": [
              "<pre style=\"white-space:pre;overflow-x:auto;line-height:normal;font-family:Menlo,'DejaVu Sans Mono',consolas,'Courier New',monospace\"><span style=\"color: #d4b702; text-decoration-color: #d4b702\">━━━━━━━━━━━━━━━━━━━━━━━━━━━━━━━━━━━━━━━━━━━━━━━━━━━━━ </span><span style=\"font-weight: bold\">Step 1</span><span style=\"color: #d4b702; text-decoration-color: #d4b702\"> ━━━━━━━━━━━━━━━━━━━━━━━━━━━━━━━━━━━━━━━━━━━━━━━━━━━━━━</span>\n",
              "</pre>\n"
            ]
          },
          "metadata": {}
        },
        {
          "output_type": "display_data",
          "data": {
            "text/plain": [
              " ─ \u001b[1mExecuting parsed code:\u001b[0m ──────────────────────────────────────────────────────────────────────────────────────── \n",
              "  \u001b[38;2;149;144;119;48;2;39;40;34m# Search for sustainable travel ideas for Ethiopia\u001b[0m\u001b[48;2;39;40;34m                                                             \u001b[0m  \n",
              "  \u001b[38;2;248;248;242;48;2;39;40;34methiopia_travel_info\u001b[0m\u001b[38;2;248;248;242;48;2;39;40;34m \u001b[0m\u001b[38;2;255;70;137;48;2;39;40;34m=\u001b[0m\u001b[38;2;248;248;242;48;2;39;40;34m \u001b[0m\u001b[38;2;248;248;242;48;2;39;40;34mtravel_planning_retriever\u001b[0m\u001b[38;2;248;248;242;48;2;39;40;34m(\u001b[0m\u001b[38;2;248;248;242;48;2;39;40;34mquery\u001b[0m\u001b[38;2;255;70;137;48;2;39;40;34m=\u001b[0m\u001b[38;2;230;219;116;48;2;39;40;34m\"\u001b[0m\u001b[38;2;230;219;116;48;2;39;40;34msustainable travel ideas for Ethiopia nature eco-lodges\u001b[0m  \n",
              "  \u001b[38;2;230;219;116;48;2;39;40;34mlocal experiences\u001b[0m\u001b[38;2;230;219;116;48;2;39;40;34m\"\u001b[0m\u001b[38;2;248;248;242;48;2;39;40;34m)\u001b[0m\u001b[48;2;39;40;34m                                                                                            \u001b[0m  \n",
              "  \u001b[38;2;248;248;242;48;2;39;40;34mprint\u001b[0m\u001b[38;2;248;248;242;48;2;39;40;34m(\u001b[0m\u001b[38;2;248;248;242;48;2;39;40;34methiopia_travel_info\u001b[0m\u001b[38;2;248;248;242;48;2;39;40;34m)\u001b[0m\u001b[48;2;39;40;34m                                                                                    \u001b[0m  \n",
              " ───────────────────────────────────────────────────────────────────────────────────────────────────────────────── \n"
            ],
            "text/html": [
              "<pre style=\"white-space:pre;overflow-x:auto;line-height:normal;font-family:Menlo,'DejaVu Sans Mono',consolas,'Courier New',monospace\"> ─ <span style=\"font-weight: bold\">Executing parsed code:</span> ──────────────────────────────────────────────────────────────────────────────────────── \n",
              "  <span style=\"color: #959077; text-decoration-color: #959077; background-color: #272822\"># Search for sustainable travel ideas for Ethiopia</span><span style=\"background-color: #272822\">                                                             </span>  \n",
              "  <span style=\"color: #f8f8f2; text-decoration-color: #f8f8f2; background-color: #272822\">ethiopia_travel_info </span><span style=\"color: #ff4689; text-decoration-color: #ff4689; background-color: #272822\">=</span><span style=\"color: #f8f8f2; text-decoration-color: #f8f8f2; background-color: #272822\"> travel_planning_retriever(query</span><span style=\"color: #ff4689; text-decoration-color: #ff4689; background-color: #272822\">=</span><span style=\"color: #e6db74; text-decoration-color: #e6db74; background-color: #272822\">\"sustainable travel ideas for Ethiopia nature eco-lodges</span>  \n",
              "  <span style=\"color: #e6db74; text-decoration-color: #e6db74; background-color: #272822\">local experiences\"</span><span style=\"color: #f8f8f2; text-decoration-color: #f8f8f2; background-color: #272822\">)</span><span style=\"background-color: #272822\">                                                                                            </span>  \n",
              "  <span style=\"color: #f8f8f2; text-decoration-color: #f8f8f2; background-color: #272822\">print(ethiopia_travel_info)</span><span style=\"background-color: #272822\">                                                                                    </span>  \n",
              " ───────────────────────────────────────────────────────────────────────────────────────────────────────────────── \n",
              "</pre>\n"
            ]
          },
          "metadata": {}
        },
        {
          "output_type": "display_data",
          "data": {
            "text/plain": [
              "\u001b[1mExecution logs:\u001b[0m\n",
              "\n",
              "Retrieved travel ideas:\n",
              "\n",
              "\n",
              "===== Idea 0 =====\n",
              "Visit Simien Mountains National Park for sustainable trekking and breathtaking landscapes.\n",
              "\n",
              "===== Idea 1 =====\n",
              "Stay at eco-lodges near Lake Tana that focus on local materials and reduced environmental impact.\n",
              "\n",
              "===== Idea 2 =====\n",
              "Explore the Bale Mountains for wildlife watching, especially endemic species, in conservation-friendly ways.\n",
              "\n",
              "===== Idea 3 =====\n",
              "Participate in community coffee ceremonies to support local farmers and experience Ethiopian culture.\n",
              "\n",
              "===== Idea 4 =====\n",
              "Choose local transportation options like cycling or walking tours to discover historic Addis Ababa sustainably.\n",
              "\n",
              "Out: None\n"
            ],
            "text/html": [
              "<pre style=\"white-space:pre;overflow-x:auto;line-height:normal;font-family:Menlo,'DejaVu Sans Mono',consolas,'Courier New',monospace\"><span style=\"font-weight: bold\">Execution logs:</span>\n",
              "\n",
              "Retrieved travel ideas:\n",
              "\n",
              "\n",
              "===== Idea 0 =====\n",
              "Visit Simien Mountains National Park for sustainable trekking and breathtaking landscapes.\n",
              "\n",
              "===== Idea 1 =====\n",
              "Stay at eco-lodges near Lake Tana that focus on local materials and reduced environmental impact.\n",
              "\n",
              "===== Idea 2 =====\n",
              "Explore the Bale Mountains for wildlife watching, especially endemic species, in conservation-friendly ways.\n",
              "\n",
              "===== Idea 3 =====\n",
              "Participate in community coffee ceremonies to support local farmers and experience Ethiopian culture.\n",
              "\n",
              "===== Idea 4 =====\n",
              "Choose local transportation options like cycling or walking tours to discover historic Addis Ababa sustainably.\n",
              "\n",
              "Out: None\n",
              "</pre>\n"
            ]
          },
          "metadata": {}
        },
        {
          "output_type": "display_data",
          "data": {
            "text/plain": [
              "\u001b[2m[Step 1: Duration 0.83 seconds| Input tokens: 2,111 | Output tokens: 80]\u001b[0m\n"
            ],
            "text/html": [
              "<pre style=\"white-space:pre;overflow-x:auto;line-height:normal;font-family:Menlo,'DejaVu Sans Mono',consolas,'Courier New',monospace\"><span style=\"color: #7f7f7f; text-decoration-color: #7f7f7f\">[Step 1: Duration 0.83 seconds| Input tokens: 2,111 | Output tokens: 80]</span>\n",
              "</pre>\n"
            ]
          },
          "metadata": {}
        },
        {
          "output_type": "display_data",
          "data": {
            "text/plain": [
              "\u001b[38;2;212;183;2m━━━━━━━━━━━━━━━━━━━━━━━━━━━━━━━━━━━━━━━━━━━━━━━━━━━━━ \u001b[0m\u001b[1mStep 2\u001b[0m\u001b[38;2;212;183;2m ━━━━━━━━━━━━━━━━━━━━━━━━━━━━━━━━━━━━━━━━━━━━━━━━━━━━━━\u001b[0m\n"
            ],
            "text/html": [
              "<pre style=\"white-space:pre;overflow-x:auto;line-height:normal;font-family:Menlo,'DejaVu Sans Mono',consolas,'Courier New',monospace\"><span style=\"color: #d4b702; text-decoration-color: #d4b702\">━━━━━━━━━━━━━━━━━━━━━━━━━━━━━━━━━━━━━━━━━━━━━━━━━━━━━ </span><span style=\"font-weight: bold\">Step 2</span><span style=\"color: #d4b702; text-decoration-color: #d4b702\"> ━━━━━━━━━━━━━━━━━━━━━━━━━━━━━━━━━━━━━━━━━━━━━━━━━━━━━━</span>\n",
              "</pre>\n"
            ]
          },
          "metadata": {}
        },
        {
          "output_type": "display_data",
          "data": {
            "text/plain": [
              " ─ \u001b[1mExecuting parsed code:\u001b[0m ──────────────────────────────────────────────────────────────────────────────────────── \n",
              "  \u001b[38;2;149;144;119;48;2;39;40;34m# Get more detailed sustainable travel information for Ethiopia\u001b[0m\u001b[48;2;39;40;34m                                                \u001b[0m  \n",
              "  \u001b[38;2;248;248;242;48;2;39;40;34mdetailed_ethiopia_info\u001b[0m\u001b[38;2;248;248;242;48;2;39;40;34m \u001b[0m\u001b[38;2;255;70;137;48;2;39;40;34m=\u001b[0m\u001b[38;2;248;248;242;48;2;39;40;34m \u001b[0m\u001b[38;2;248;248;242;48;2;39;40;34mtravel_planning_retriever\u001b[0m\u001b[38;2;248;248;242;48;2;39;40;34m(\u001b[0m\u001b[38;2;248;248;242;48;2;39;40;34mquery\u001b[0m\u001b[38;2;255;70;137;48;2;39;40;34m=\u001b[0m\u001b[38;2;230;219;116;48;2;39;40;34m\"\u001b[0m\u001b[38;2;230;219;116;48;2;39;40;34mEthiopia eco-friendly accommodation activities tips \u001b[0m\u001b[48;2;39;40;34m \u001b[0m  \n",
              "  \u001b[38;2;230;219;116;48;2;39;40;34msustainability\u001b[0m\u001b[38;2;230;219;116;48;2;39;40;34m\"\u001b[0m\u001b[38;2;248;248;242;48;2;39;40;34m)\u001b[0m\u001b[48;2;39;40;34m                                                                                               \u001b[0m  \n",
              "  \u001b[38;2;248;248;242;48;2;39;40;34mprint\u001b[0m\u001b[38;2;248;248;242;48;2;39;40;34m(\u001b[0m\u001b[38;2;248;248;242;48;2;39;40;34mdetailed_ethiopia_info\u001b[0m\u001b[38;2;248;248;242;48;2;39;40;34m)\u001b[0m\u001b[48;2;39;40;34m                                                                                  \u001b[0m  \n",
              " ───────────────────────────────────────────────────────────────────────────────────────────────────────────────── \n"
            ],
            "text/html": [
              "<pre style=\"white-space:pre;overflow-x:auto;line-height:normal;font-family:Menlo,'DejaVu Sans Mono',consolas,'Courier New',monospace\"> ─ <span style=\"font-weight: bold\">Executing parsed code:</span> ──────────────────────────────────────────────────────────────────────────────────────── \n",
              "  <span style=\"color: #959077; text-decoration-color: #959077; background-color: #272822\"># Get more detailed sustainable travel information for Ethiopia</span><span style=\"background-color: #272822\">                                                </span>  \n",
              "  <span style=\"color: #f8f8f2; text-decoration-color: #f8f8f2; background-color: #272822\">detailed_ethiopia_info </span><span style=\"color: #ff4689; text-decoration-color: #ff4689; background-color: #272822\">=</span><span style=\"color: #f8f8f2; text-decoration-color: #f8f8f2; background-color: #272822\"> travel_planning_retriever(query</span><span style=\"color: #ff4689; text-decoration-color: #ff4689; background-color: #272822\">=</span><span style=\"color: #e6db74; text-decoration-color: #e6db74; background-color: #272822\">\"Ethiopia eco-friendly accommodation activities tips </span><span style=\"background-color: #272822\"> </span>  \n",
              "  <span style=\"color: #e6db74; text-decoration-color: #e6db74; background-color: #272822\">sustainability\"</span><span style=\"color: #f8f8f2; text-decoration-color: #f8f8f2; background-color: #272822\">)</span><span style=\"background-color: #272822\">                                                                                               </span>  \n",
              "  <span style=\"color: #f8f8f2; text-decoration-color: #f8f8f2; background-color: #272822\">print(detailed_ethiopia_info)</span><span style=\"background-color: #272822\">                                                                                  </span>  \n",
              " ───────────────────────────────────────────────────────────────────────────────────────────────────────────────── \n",
              "</pre>\n"
            ]
          },
          "metadata": {}
        },
        {
          "output_type": "display_data",
          "data": {
            "text/plain": [
              "\u001b[1mExecution logs:\u001b[0m\n",
              "\n",
              "Retrieved travel ideas:\n",
              "\n",
              "\n",
              "===== Idea 0 =====\n",
              "Choose local transportation options like cycling or walking tours to discover historic Addis Ababa sustainably.\n",
              "\n",
              "===== Idea 1 =====\n",
              "Explore the Bale Mountains for wildlife watching, especially endemic species, in conservation-friendly ways.\n",
              "\n",
              "===== Idea 2 =====\n",
              "Participate in community coffee ceremonies to support local farmers and experience Ethiopian culture.\n",
              "\n",
              "===== Idea 3 =====\n",
              "Stay at eco-lodges near Lake Tana that focus on local materials and reduced environmental impact.\n",
              "\n",
              "===== Idea 4 =====\n",
              "Visit Simien Mountains National Park for sustainable trekking and breathtaking landscapes.\n",
              "\n",
              "Out: None\n"
            ],
            "text/html": [
              "<pre style=\"white-space:pre;overflow-x:auto;line-height:normal;font-family:Menlo,'DejaVu Sans Mono',consolas,'Courier New',monospace\"><span style=\"font-weight: bold\">Execution logs:</span>\n",
              "\n",
              "Retrieved travel ideas:\n",
              "\n",
              "\n",
              "===== Idea 0 =====\n",
              "Choose local transportation options like cycling or walking tours to discover historic Addis Ababa sustainably.\n",
              "\n",
              "===== Idea 1 =====\n",
              "Explore the Bale Mountains for wildlife watching, especially endemic species, in conservation-friendly ways.\n",
              "\n",
              "===== Idea 2 =====\n",
              "Participate in community coffee ceremonies to support local farmers and experience Ethiopian culture.\n",
              "\n",
              "===== Idea 3 =====\n",
              "Stay at eco-lodges near Lake Tana that focus on local materials and reduced environmental impact.\n",
              "\n",
              "===== Idea 4 =====\n",
              "Visit Simien Mountains National Park for sustainable trekking and breathtaking landscapes.\n",
              "\n",
              "Out: None\n",
              "</pre>\n"
            ]
          },
          "metadata": {}
        },
        {
          "output_type": "display_data",
          "data": {
            "text/plain": [
              "\u001b[2m[Step 2: Duration 0.82 seconds| Input tokens: 4,527 | Output tokens: 154]\u001b[0m\n"
            ],
            "text/html": [
              "<pre style=\"white-space:pre;overflow-x:auto;line-height:normal;font-family:Menlo,'DejaVu Sans Mono',consolas,'Courier New',monospace\"><span style=\"color: #7f7f7f; text-decoration-color: #7f7f7f\">[Step 2: Duration 0.82 seconds| Input tokens: 4,527 | Output tokens: 154]</span>\n",
              "</pre>\n"
            ]
          },
          "metadata": {}
        },
        {
          "output_type": "display_data",
          "data": {
            "text/plain": [
              "\u001b[38;2;212;183;2m━━━━━━━━━━━━━━━━━━━━━━━━━━━━━━━━━━━━━━━━━━━━━━━━━━━━━ \u001b[0m\u001b[1mStep 3\u001b[0m\u001b[38;2;212;183;2m ━━━━━━━━━━━━━━━━━━━━━━━━━━━━━━━━━━━━━━━━━━━━━━━━━━━━━━\u001b[0m\n"
            ],
            "text/html": [
              "<pre style=\"white-space:pre;overflow-x:auto;line-height:normal;font-family:Menlo,'DejaVu Sans Mono',consolas,'Courier New',monospace\"><span style=\"color: #d4b702; text-decoration-color: #d4b702\">━━━━━━━━━━━━━━━━━━━━━━━━━━━━━━━━━━━━━━━━━━━━━━━━━━━━━ </span><span style=\"font-weight: bold\">Step 3</span><span style=\"color: #d4b702; text-decoration-color: #d4b702\"> ━━━━━━━━━━━━━━━━━━━━━━━━━━━━━━━━━━━━━━━━━━━━━━━━━━━━━━</span>\n",
              "</pre>\n"
            ]
          },
          "metadata": {}
        },
        {
          "output_type": "display_data",
          "data": {
            "text/plain": [
              " ─ \u001b[1mExecuting parsed code:\u001b[0m ──────────────────────────────────────────────────────────────────────────────────────── \n",
              "  \u001b[38;2;149;144;119;48;2;39;40;34m# Get information about specific sustainable tourism practices in Ethiopia\u001b[0m\u001b[48;2;39;40;34m                                     \u001b[0m  \n",
              "  \u001b[38;2;248;248;242;48;2;39;40;34msustainability_practices\u001b[0m\u001b[38;2;248;248;242;48;2;39;40;34m \u001b[0m\u001b[38;2;255;70;137;48;2;39;40;34m=\u001b[0m\u001b[38;2;248;248;242;48;2;39;40;34m \u001b[0m\u001b[38;2;248;248;242;48;2;39;40;34mtravel_planning_retriever\u001b[0m\u001b[38;2;248;248;242;48;2;39;40;34m(\u001b[0m\u001b[38;2;248;248;242;48;2;39;40;34mquery\u001b[0m\u001b[38;2;255;70;137;48;2;39;40;34m=\u001b[0m\u001b[38;2;230;219;116;48;2;39;40;34m\"\u001b[0m\u001b[38;2;230;219;116;48;2;39;40;34mEthiopia sustainable tourism practices local \u001b[0m\u001b[48;2;39;40;34m      \u001b[0m  \n",
              "  \u001b[38;2;230;219;116;48;2;39;40;34mcommunity involvement environmental protection\u001b[0m\u001b[38;2;230;219;116;48;2;39;40;34m\"\u001b[0m\u001b[38;2;248;248;242;48;2;39;40;34m)\u001b[0m\u001b[48;2;39;40;34m                                                               \u001b[0m  \n",
              "  \u001b[38;2;248;248;242;48;2;39;40;34mprint\u001b[0m\u001b[38;2;248;248;242;48;2;39;40;34m(\u001b[0m\u001b[38;2;248;248;242;48;2;39;40;34msustainability_practices\u001b[0m\u001b[38;2;248;248;242;48;2;39;40;34m)\u001b[0m\u001b[48;2;39;40;34m                                                                                \u001b[0m  \n",
              "  \u001b[38;2;255;70;137;48;2;39;40;34m<\u001b[0m\u001b[38;2;255;70;137;48;2;39;40;34m/\u001b[0m\u001b[38;2;248;248;242;48;2;39;40;34mcode\u001b[0m\u001b[38;2;248;248;242;48;2;39;40;34m]\u001b[0m\u001b[48;2;39;40;34m                                                                                                        \u001b[0m  \n",
              " ───────────────────────────────────────────────────────────────────────────────────────────────────────────────── \n"
            ],
            "text/html": [
              "<pre style=\"white-space:pre;overflow-x:auto;line-height:normal;font-family:Menlo,'DejaVu Sans Mono',consolas,'Courier New',monospace\"> ─ <span style=\"font-weight: bold\">Executing parsed code:</span> ──────────────────────────────────────────────────────────────────────────────────────── \n",
              "  <span style=\"color: #959077; text-decoration-color: #959077; background-color: #272822\"># Get information about specific sustainable tourism practices in Ethiopia</span><span style=\"background-color: #272822\">                                     </span>  \n",
              "  <span style=\"color: #f8f8f2; text-decoration-color: #f8f8f2; background-color: #272822\">sustainability_practices </span><span style=\"color: #ff4689; text-decoration-color: #ff4689; background-color: #272822\">=</span><span style=\"color: #f8f8f2; text-decoration-color: #f8f8f2; background-color: #272822\"> travel_planning_retriever(query</span><span style=\"color: #ff4689; text-decoration-color: #ff4689; background-color: #272822\">=</span><span style=\"color: #e6db74; text-decoration-color: #e6db74; background-color: #272822\">\"Ethiopia sustainable tourism practices local </span><span style=\"background-color: #272822\">      </span>  \n",
              "  <span style=\"color: #e6db74; text-decoration-color: #e6db74; background-color: #272822\">community involvement environmental protection\"</span><span style=\"color: #f8f8f2; text-decoration-color: #f8f8f2; background-color: #272822\">)</span><span style=\"background-color: #272822\">                                                               </span>  \n",
              "  <span style=\"color: #f8f8f2; text-decoration-color: #f8f8f2; background-color: #272822\">print(sustainability_practices)</span><span style=\"background-color: #272822\">                                                                                </span>  \n",
              "  <span style=\"color: #ff4689; text-decoration-color: #ff4689; background-color: #272822\">&lt;/</span><span style=\"color: #f8f8f2; text-decoration-color: #f8f8f2; background-color: #272822\">code]</span><span style=\"background-color: #272822\">                                                                                                        </span>  \n",
              " ───────────────────────────────────────────────────────────────────────────────────────────────────────────────── \n",
              "</pre>\n"
            ]
          },
          "metadata": {}
        },
        {
          "output_type": "display_data",
          "data": {
            "text/plain": [
              "\u001b[1mExecution logs:\u001b[0m\n",
              "\n",
              "Retrieved travel ideas:\n",
              "\n",
              "\n",
              "===== Idea 0 =====\n",
              "Choose local transportation options like cycling or walking tours to discover historic Addis Ababa sustainably.\n",
              "\n",
              "===== Idea 1 =====\n",
              "Explore the Bale Mountains for wildlife watching, especially endemic species, in conservation-friendly ways.\n",
              "\n",
              "===== Idea 2 =====\n",
              "Participate in community coffee ceremonies to support local farmers and experience Ethiopian culture.\n",
              "\n",
              "===== Idea 3 =====\n",
              "Stay at eco-lodges near Lake Tana that focus on local materials and reduced environmental impact.\n",
              "\n",
              "===== Idea 4 =====\n",
              "Visit Simien Mountains National Park for sustainable trekking and breathtaking landscapes.\n",
              "\n"
            ],
            "text/html": [
              "<pre style=\"white-space:pre;overflow-x:auto;line-height:normal;font-family:Menlo,'DejaVu Sans Mono',consolas,'Courier New',monospace\"><span style=\"font-weight: bold\">Execution logs:</span>\n",
              "\n",
              "Retrieved travel ideas:\n",
              "\n",
              "\n",
              "===== Idea 0 =====\n",
              "Choose local transportation options like cycling or walking tours to discover historic Addis Ababa sustainably.\n",
              "\n",
              "===== Idea 1 =====\n",
              "Explore the Bale Mountains for wildlife watching, especially endemic species, in conservation-friendly ways.\n",
              "\n",
              "===== Idea 2 =====\n",
              "Participate in community coffee ceremonies to support local farmers and experience Ethiopian culture.\n",
              "\n",
              "===== Idea 3 =====\n",
              "Stay at eco-lodges near Lake Tana that focus on local materials and reduced environmental impact.\n",
              "\n",
              "===== Idea 4 =====\n",
              "Visit Simien Mountains National Park for sustainable trekking and breathtaking landscapes.\n",
              "\n",
              "</pre>\n"
            ]
          },
          "metadata": {}
        },
        {
          "output_type": "display_data",
          "data": {
            "text/plain": [
              "\u001b[1;31mCode parsing failed on line 4 due to: SyntaxError\u001b[0m\n",
              "\u001b[1;31m</code]       ^\u001b[0m\n",
              "\u001b[1;31mError: unmatched ']' (<unknown>, line 4)\u001b[0m\n"
            ],
            "text/html": [
              "<pre style=\"white-space:pre;overflow-x:auto;line-height:normal;font-family:Menlo,'DejaVu Sans Mono',consolas,'Courier New',monospace\"><span style=\"color: #800000; text-decoration-color: #800000; font-weight: bold\">Code parsing failed on line 4 due to: SyntaxError</span>\n",
              "<span style=\"color: #800000; text-decoration-color: #800000; font-weight: bold\">&lt;/code]       ^</span>\n",
              "<span style=\"color: #800000; text-decoration-color: #800000; font-weight: bold\">Error: unmatched ']' (&lt;unknown&gt;, line 4)</span>\n",
              "</pre>\n"
            ]
          },
          "metadata": {}
        },
        {
          "output_type": "display_data",
          "data": {
            "text/plain": [
              "\u001b[2m[Step 3: Duration 1.06 seconds| Input tokens: 7,240 | Output tokens: 223]\u001b[0m\n"
            ],
            "text/html": [
              "<pre style=\"white-space:pre;overflow-x:auto;line-height:normal;font-family:Menlo,'DejaVu Sans Mono',consolas,'Courier New',monospace\"><span style=\"color: #7f7f7f; text-decoration-color: #7f7f7f\">[Step 3: Duration 1.06 seconds| Input tokens: 7,240 | Output tokens: 223]</span>\n",
              "</pre>\n"
            ]
          },
          "metadata": {}
        },
        {
          "output_type": "display_data",
          "data": {
            "text/plain": [
              "\u001b[38;2;212;183;2m━━━━━━━━━━━━━━━━━━━━━━━━━━━━━━━━━━━━━━━━━━━━━━━━━━━━━ \u001b[0m\u001b[1mStep 4\u001b[0m\u001b[38;2;212;183;2m ━━━━━━━━━━━━━━━━━━━━━━━━━━━━━━━━━━━━━━━━━━━━━━━━━━━━━━\u001b[0m\n"
            ],
            "text/html": [
              "<pre style=\"white-space:pre;overflow-x:auto;line-height:normal;font-family:Menlo,'DejaVu Sans Mono',consolas,'Courier New',monospace\"><span style=\"color: #d4b702; text-decoration-color: #d4b702\">━━━━━━━━━━━━━━━━━━━━━━━━━━━━━━━━━━━━━━━━━━━━━━━━━━━━━ </span><span style=\"font-weight: bold\">Step 4</span><span style=\"color: #d4b702; text-decoration-color: #d4b702\"> ━━━━━━━━━━━━━━━━━━━━━━━━━━━━━━━━━━━━━━━━━━━━━━━━━━━━━━</span>\n",
              "</pre>\n"
            ]
          },
          "metadata": {}
        },
        {
          "output_type": "display_data",
          "data": {
            "text/plain": [
              " ─ \u001b[1mExecuting parsed code:\u001b[0m ──────────────────────────────────────────────────────────────────────────────────────── \n",
              "  \u001b[38;2;149;144;119;48;2;39;40;34m# Get comprehensive information about sustainable travel in Ethiopia\u001b[0m\u001b[48;2;39;40;34m                                           \u001b[0m  \n",
              "  \u001b[38;2;248;248;242;48;2;39;40;34mcomprehensive_info\u001b[0m\u001b[38;2;248;248;242;48;2;39;40;34m \u001b[0m\u001b[38;2;255;70;137;48;2;39;40;34m=\u001b[0m\u001b[38;2;248;248;242;48;2;39;40;34m \u001b[0m\u001b[38;2;248;248;242;48;2;39;40;34mtravel_planning_retriever\u001b[0m\u001b[38;2;248;248;242;48;2;39;40;34m(\u001b[0m\u001b[38;2;248;248;242;48;2;39;40;34mquery\u001b[0m\u001b[38;2;255;70;137;48;2;39;40;34m=\u001b[0m\u001b[38;2;230;219;116;48;2;39;40;34m\"\u001b[0m\u001b[38;2;230;219;116;48;2;39;40;34mEthiopia sustainable travel places to stay activities \u001b[0m\u001b[48;2;39;40;34m   \u001b[0m  \n",
              "  \u001b[38;2;230;219;116;48;2;39;40;34meco-friendly tips\u001b[0m\u001b[38;2;230;219;116;48;2;39;40;34m\"\u001b[0m\u001b[38;2;248;248;242;48;2;39;40;34m)\u001b[0m\u001b[48;2;39;40;34m                                                                                            \u001b[0m  \n",
              "  \u001b[38;2;248;248;242;48;2;39;40;34mprint\u001b[0m\u001b[38;2;248;248;242;48;2;39;40;34m(\u001b[0m\u001b[38;2;248;248;242;48;2;39;40;34mcomprehensive_info\u001b[0m\u001b[38;2;248;248;242;48;2;39;40;34m)\u001b[0m\u001b[48;2;39;40;34m                                                                                      \u001b[0m  \n",
              " ───────────────────────────────────────────────────────────────────────────────────────────────────────────────── \n"
            ],
            "text/html": [
              "<pre style=\"white-space:pre;overflow-x:auto;line-height:normal;font-family:Menlo,'DejaVu Sans Mono',consolas,'Courier New',monospace\"> ─ <span style=\"font-weight: bold\">Executing parsed code:</span> ──────────────────────────────────────────────────────────────────────────────────────── \n",
              "  <span style=\"color: #959077; text-decoration-color: #959077; background-color: #272822\"># Get comprehensive information about sustainable travel in Ethiopia</span><span style=\"background-color: #272822\">                                           </span>  \n",
              "  <span style=\"color: #f8f8f2; text-decoration-color: #f8f8f2; background-color: #272822\">comprehensive_info </span><span style=\"color: #ff4689; text-decoration-color: #ff4689; background-color: #272822\">=</span><span style=\"color: #f8f8f2; text-decoration-color: #f8f8f2; background-color: #272822\"> travel_planning_retriever(query</span><span style=\"color: #ff4689; text-decoration-color: #ff4689; background-color: #272822\">=</span><span style=\"color: #e6db74; text-decoration-color: #e6db74; background-color: #272822\">\"Ethiopia sustainable travel places to stay activities </span><span style=\"background-color: #272822\">   </span>  \n",
              "  <span style=\"color: #e6db74; text-decoration-color: #e6db74; background-color: #272822\">eco-friendly tips\"</span><span style=\"color: #f8f8f2; text-decoration-color: #f8f8f2; background-color: #272822\">)</span><span style=\"background-color: #272822\">                                                                                            </span>  \n",
              "  <span style=\"color: #f8f8f2; text-decoration-color: #f8f8f2; background-color: #272822\">print(comprehensive_info)</span><span style=\"background-color: #272822\">                                                                                      </span>  \n",
              " ───────────────────────────────────────────────────────────────────────────────────────────────────────────────── \n",
              "</pre>\n"
            ]
          },
          "metadata": {}
        },
        {
          "output_type": "display_data",
          "data": {
            "text/plain": [
              "\u001b[1mExecution logs:\u001b[0m\n",
              "\n",
              "Retrieved travel ideas:\n",
              "\n",
              "\n",
              "===== Idea 0 =====\n",
              "Visit Simien Mountains National Park for sustainable trekking and breathtaking landscapes.\n",
              "\n",
              "===== Idea 1 =====\n",
              "Participate in community coffee ceremonies to support local farmers and experience Ethiopian culture.\n",
              "\n",
              "===== Idea 2 =====\n",
              "Choose local transportation options like cycling or walking tours to discover historic Addis Ababa sustainably.\n",
              "\n",
              "===== Idea 3 =====\n",
              "Explore the Bale Mountains for wildlife watching, especially endemic species, in conservation-friendly ways.\n",
              "\n",
              "===== Idea 4 =====\n",
              "Stay at eco-lodges near Lake Tana that focus on local materials and reduced environmental impact.\n",
              "\n",
              "Out: None\n"
            ],
            "text/html": [
              "<pre style=\"white-space:pre;overflow-x:auto;line-height:normal;font-family:Menlo,'DejaVu Sans Mono',consolas,'Courier New',monospace\"><span style=\"font-weight: bold\">Execution logs:</span>\n",
              "\n",
              "Retrieved travel ideas:\n",
              "\n",
              "\n",
              "===== Idea 0 =====\n",
              "Visit Simien Mountains National Park for sustainable trekking and breathtaking landscapes.\n",
              "\n",
              "===== Idea 1 =====\n",
              "Participate in community coffee ceremonies to support local farmers and experience Ethiopian culture.\n",
              "\n",
              "===== Idea 2 =====\n",
              "Choose local transportation options like cycling or walking tours to discover historic Addis Ababa sustainably.\n",
              "\n",
              "===== Idea 3 =====\n",
              "Explore the Bale Mountains for wildlife watching, especially endemic species, in conservation-friendly ways.\n",
              "\n",
              "===== Idea 4 =====\n",
              "Stay at eco-lodges near Lake Tana that focus on local materials and reduced environmental impact.\n",
              "\n",
              "Out: None\n",
              "</pre>\n"
            ]
          },
          "metadata": {}
        },
        {
          "output_type": "display_data",
          "data": {
            "text/plain": [
              "\u001b[2m[Step 4: Duration 1.16 seconds| Input tokens: 10,307 | Output tokens: 287]\u001b[0m\n"
            ],
            "text/html": [
              "<pre style=\"white-space:pre;overflow-x:auto;line-height:normal;font-family:Menlo,'DejaVu Sans Mono',consolas,'Courier New',monospace\"><span style=\"color: #7f7f7f; text-decoration-color: #7f7f7f\">[Step 4: Duration 1.16 seconds| Input tokens: 10,307 | Output tokens: 287]</span>\n",
              "</pre>\n"
            ]
          },
          "metadata": {}
        },
        {
          "output_type": "display_data",
          "data": {
            "text/plain": [
              "\u001b[38;2;212;183;2m━━━━━━━━━━━━━━━━━━━━━━━━━━━━━━━━━━━━━━━━━━━━━━━━━━━━━ \u001b[0m\u001b[1mStep 5\u001b[0m\u001b[38;2;212;183;2m ━━━━━━━━━━━━━━━━━━━━━━━━━━━━━━━━━━━━━━━━━━━━━━━━━━━━━━\u001b[0m\n"
            ],
            "text/html": [
              "<pre style=\"white-space:pre;overflow-x:auto;line-height:normal;font-family:Menlo,'DejaVu Sans Mono',consolas,'Courier New',monospace\"><span style=\"color: #d4b702; text-decoration-color: #d4b702\">━━━━━━━━━━━━━━━━━━━━━━━━━━━━━━━━━━━━━━━━━━━━━━━━━━━━━ </span><span style=\"font-weight: bold\">Step 5</span><span style=\"color: #d4b702; text-decoration-color: #d4b702\"> ━━━━━━━━━━━━━━━━━━━━━━━━━━━━━━━━━━━━━━━━━━━━━━━━━━━━━━</span>\n",
              "</pre>\n"
            ]
          },
          "metadata": {}
        },
        {
          "output_type": "display_data",
          "data": {
            "text/plain": [
              " ─ \u001b[1mExecuting parsed code:\u001b[0m ──────────────────────────────────────────────────────────────────────────────────────── \n",
              "  \u001b[38;2;248;248;242;48;2;39;40;34mfinal_answer\u001b[0m\u001b[38;2;248;248;242;48;2;39;40;34m(\u001b[0m\u001b[38;2;230;219;116;48;2;39;40;34m\"\"\"\u001b[0m\u001b[48;2;39;40;34m                                                                                               \u001b[0m  \n",
              "  \u001b[38;2;230;219;116;48;2;39;40;34mSustainable Travel Ideas for Ethiopia:\u001b[0m\u001b[48;2;39;40;34m                                                                         \u001b[0m  \n",
              "  \u001b[48;2;39;40;34m                                                                                                               \u001b[0m  \n",
              "  \u001b[38;2;230;219;116;48;2;39;40;34mPlaces to Stay:\u001b[0m\u001b[48;2;39;40;34m                                                                                                \u001b[0m  \n",
              "  \u001b[38;2;230;219;116;48;2;39;40;34m- Eco-lodges near Lake Tana that focus on local materials and reduced environmental impact\u001b[0m\u001b[48;2;39;40;34m                     \u001b[0m  \n",
              "  \u001b[38;2;230;219;116;48;2;39;40;34m- Sustainable accommodations in and around major national parks\u001b[0m\u001b[48;2;39;40;34m                                                \u001b[0m  \n",
              "  \u001b[48;2;39;40;34m                                                                                                               \u001b[0m  \n",
              "  \u001b[38;2;230;219;116;48;2;39;40;34mActivities:\u001b[0m\u001b[48;2;39;40;34m                                                                                                    \u001b[0m  \n",
              "  \u001b[38;2;230;219;116;48;2;39;40;34m- Visit Simien Mountains National Park for sustainable trekking and breathtaking landscapes\u001b[0m\u001b[48;2;39;40;34m                    \u001b[0m  \n",
              "  \u001b[38;2;230;219;116;48;2;39;40;34m- Explore the Bale Mountains for wildlife watching, especially endemic species, in conservation-friendly ways\u001b[0m\u001b[48;2;39;40;34m  \u001b[0m  \n",
              "  \u001b[38;2;230;219;116;48;2;39;40;34m- Participate in community coffee ceremonies to support local farmers and experience Ethiopian culture\u001b[0m\u001b[48;2;39;40;34m         \u001b[0m  \n",
              "  \u001b[38;2;230;219;116;48;2;39;40;34m- Choose local transportation options like cycling or walking tours to discover historic Addis Ababa \u001b[0m\u001b[48;2;39;40;34m          \u001b[0m  \n",
              "  \u001b[38;2;230;219;116;48;2;39;40;34msustainably\u001b[0m\u001b[48;2;39;40;34m                                                                                                    \u001b[0m  \n",
              "  \u001b[48;2;39;40;34m                                                                                                               \u001b[0m  \n",
              "  \u001b[38;2;230;219;116;48;2;39;40;34mEco-Friendly Tips:\u001b[0m\u001b[48;2;39;40;34m                                                                                             \u001b[0m  \n",
              "  \u001b[38;2;230;219;116;48;2;39;40;34m- Support local communities through cultural experiences and tourism\u001b[0m\u001b[48;2;39;40;34m                                           \u001b[0m  \n",
              "  \u001b[38;2;230;219;116;48;2;39;40;34m- Choose accommodations that use local materials and implement sustainable practices\u001b[0m\u001b[48;2;39;40;34m                           \u001b[0m  \n",
              "  \u001b[38;2;230;219;116;48;2;39;40;34m- Engage in conservation-friendly wildlife viewing\u001b[0m\u001b[48;2;39;40;34m                                                             \u001b[0m  \n",
              "  \u001b[38;2;230;219;116;48;2;39;40;34m- Opt for low-impact transportation methods\u001b[0m\u001b[48;2;39;40;34m                                                                    \u001b[0m  \n",
              "  \u001b[38;2;230;219;116;48;2;39;40;34m- Respect local cultures and traditions while traveling\u001b[0m\u001b[48;2;39;40;34m                                                        \u001b[0m  \n",
              "  \u001b[38;2;230;219;116;48;2;39;40;34m\"\"\"\u001b[0m\u001b[38;2;248;248;242;48;2;39;40;34m)\u001b[0m\u001b[48;2;39;40;34m                                                                                                           \u001b[0m  \n",
              " ───────────────────────────────────────────────────────────────────────────────────────────────────────────────── \n"
            ],
            "text/html": [
              "<pre style=\"white-space:pre;overflow-x:auto;line-height:normal;font-family:Menlo,'DejaVu Sans Mono',consolas,'Courier New',monospace\"> ─ <span style=\"font-weight: bold\">Executing parsed code:</span> ──────────────────────────────────────────────────────────────────────────────────────── \n",
              "  <span style=\"color: #f8f8f2; text-decoration-color: #f8f8f2; background-color: #272822\">final_answer(</span><span style=\"color: #e6db74; text-decoration-color: #e6db74; background-color: #272822\">\"\"\"</span><span style=\"background-color: #272822\">                                                                                               </span>  \n",
              "  <span style=\"color: #e6db74; text-decoration-color: #e6db74; background-color: #272822\">Sustainable Travel Ideas for Ethiopia:</span><span style=\"background-color: #272822\">                                                                         </span>  \n",
              "  <span style=\"background-color: #272822\">                                                                                                               </span>  \n",
              "  <span style=\"color: #e6db74; text-decoration-color: #e6db74; background-color: #272822\">Places to Stay:</span><span style=\"background-color: #272822\">                                                                                                </span>  \n",
              "  <span style=\"color: #e6db74; text-decoration-color: #e6db74; background-color: #272822\">- Eco-lodges near Lake Tana that focus on local materials and reduced environmental impact</span><span style=\"background-color: #272822\">                     </span>  \n",
              "  <span style=\"color: #e6db74; text-decoration-color: #e6db74; background-color: #272822\">- Sustainable accommodations in and around major national parks</span><span style=\"background-color: #272822\">                                                </span>  \n",
              "  <span style=\"background-color: #272822\">                                                                                                               </span>  \n",
              "  <span style=\"color: #e6db74; text-decoration-color: #e6db74; background-color: #272822\">Activities:</span><span style=\"background-color: #272822\">                                                                                                    </span>  \n",
              "  <span style=\"color: #e6db74; text-decoration-color: #e6db74; background-color: #272822\">- Visit Simien Mountains National Park for sustainable trekking and breathtaking landscapes</span><span style=\"background-color: #272822\">                    </span>  \n",
              "  <span style=\"color: #e6db74; text-decoration-color: #e6db74; background-color: #272822\">- Explore the Bale Mountains for wildlife watching, especially endemic species, in conservation-friendly ways</span><span style=\"background-color: #272822\">  </span>  \n",
              "  <span style=\"color: #e6db74; text-decoration-color: #e6db74; background-color: #272822\">- Participate in community coffee ceremonies to support local farmers and experience Ethiopian culture</span><span style=\"background-color: #272822\">         </span>  \n",
              "  <span style=\"color: #e6db74; text-decoration-color: #e6db74; background-color: #272822\">- Choose local transportation options like cycling or walking tours to discover historic Addis Ababa </span><span style=\"background-color: #272822\">          </span>  \n",
              "  <span style=\"color: #e6db74; text-decoration-color: #e6db74; background-color: #272822\">sustainably</span><span style=\"background-color: #272822\">                                                                                                    </span>  \n",
              "  <span style=\"background-color: #272822\">                                                                                                               </span>  \n",
              "  <span style=\"color: #e6db74; text-decoration-color: #e6db74; background-color: #272822\">Eco-Friendly Tips:</span><span style=\"background-color: #272822\">                                                                                             </span>  \n",
              "  <span style=\"color: #e6db74; text-decoration-color: #e6db74; background-color: #272822\">- Support local communities through cultural experiences and tourism</span><span style=\"background-color: #272822\">                                           </span>  \n",
              "  <span style=\"color: #e6db74; text-decoration-color: #e6db74; background-color: #272822\">- Choose accommodations that use local materials and implement sustainable practices</span><span style=\"background-color: #272822\">                           </span>  \n",
              "  <span style=\"color: #e6db74; text-decoration-color: #e6db74; background-color: #272822\">- Engage in conservation-friendly wildlife viewing</span><span style=\"background-color: #272822\">                                                             </span>  \n",
              "  <span style=\"color: #e6db74; text-decoration-color: #e6db74; background-color: #272822\">- Opt for low-impact transportation methods</span><span style=\"background-color: #272822\">                                                                    </span>  \n",
              "  <span style=\"color: #e6db74; text-decoration-color: #e6db74; background-color: #272822\">- Respect local cultures and traditions while traveling</span><span style=\"background-color: #272822\">                                                        </span>  \n",
              "  <span style=\"color: #e6db74; text-decoration-color: #e6db74; background-color: #272822\">\"\"\"</span><span style=\"color: #f8f8f2; text-decoration-color: #f8f8f2; background-color: #272822\">)</span><span style=\"background-color: #272822\">                                                                                                           </span>  \n",
              " ───────────────────────────────────────────────────────────────────────────────────────────────────────────────── \n",
              "</pre>\n"
            ]
          },
          "metadata": {}
        },
        {
          "output_type": "display_data",
          "data": {
            "text/plain": [],
            "text/html": [
              "<pre style=\"white-space:pre;overflow-x:auto;line-height:normal;font-family:Menlo,'DejaVu Sans Mono',consolas,'Courier New',monospace\"></pre>\n"
            ]
          },
          "metadata": {}
        },
        {
          "output_type": "display_data",
          "data": {
            "text/plain": [
              "\u001b[1;38;2;212;183;2mFinal answer: \u001b[0m\n",
              "\u001b[1;38;2;212;183;2mSustainable Travel Ideas for Ethiopia:\u001b[0m\n",
              "\n",
              "\u001b[1;38;2;212;183;2mPlaces to Stay:\u001b[0m\n",
              "\u001b[1;38;2;212;183;2m- Eco-lodges near Lake Tana that focus on local materials and reduced environmental impact\u001b[0m\n",
              "\u001b[1;38;2;212;183;2m- Sustainable accommodations in and around major national parks\u001b[0m\n",
              "\n",
              "\u001b[1;38;2;212;183;2mActivities:\u001b[0m\n",
              "\u001b[1;38;2;212;183;2m- Visit Simien Mountains National Park for sustainable trekking and breathtaking landscapes\u001b[0m\n",
              "\u001b[1;38;2;212;183;2m- Explore the Bale Mountains for wildlife watching, especially endemic species, in conservation-friendly ways\u001b[0m\n",
              "\u001b[1;38;2;212;183;2m- Participate in community coffee ceremonies to support local farmers and experience Ethiopian culture\u001b[0m\n",
              "\u001b[1;38;2;212;183;2m- Choose local transportation options like cycling or walking tours to discover historic Addis Ababa sustainably\u001b[0m\n",
              "\n",
              "\u001b[1;38;2;212;183;2mEco-Friendly Tips:\u001b[0m\n",
              "\u001b[1;38;2;212;183;2m- Support local communities through cultural experiences and tourism\u001b[0m\n",
              "\u001b[1;38;2;212;183;2m- Choose accommodations that use local materials and implement sustainable practices\u001b[0m\n",
              "\u001b[1;38;2;212;183;2m- Engage in conservation-friendly wildlife viewing\u001b[0m\n",
              "\u001b[1;38;2;212;183;2m- Opt for low-impact transportation methods\u001b[0m\n",
              "\u001b[1;38;2;212;183;2m- Respect local cultures and traditions while traveling\u001b[0m\n",
              "\n"
            ],
            "text/html": [
              "<pre style=\"white-space:pre;overflow-x:auto;line-height:normal;font-family:Menlo,'DejaVu Sans Mono',consolas,'Courier New',monospace\"><span style=\"color: #d4b702; text-decoration-color: #d4b702; font-weight: bold\">Final answer: </span>\n",
              "<span style=\"color: #d4b702; text-decoration-color: #d4b702; font-weight: bold\">Sustainable Travel Ideas for Ethiopia:</span>\n",
              "\n",
              "<span style=\"color: #d4b702; text-decoration-color: #d4b702; font-weight: bold\">Places to Stay:</span>\n",
              "<span style=\"color: #d4b702; text-decoration-color: #d4b702; font-weight: bold\">- Eco-lodges near Lake Tana that focus on local materials and reduced environmental impact</span>\n",
              "<span style=\"color: #d4b702; text-decoration-color: #d4b702; font-weight: bold\">- Sustainable accommodations in and around major national parks</span>\n",
              "\n",
              "<span style=\"color: #d4b702; text-decoration-color: #d4b702; font-weight: bold\">Activities:</span>\n",
              "<span style=\"color: #d4b702; text-decoration-color: #d4b702; font-weight: bold\">- Visit Simien Mountains National Park for sustainable trekking and breathtaking landscapes</span>\n",
              "<span style=\"color: #d4b702; text-decoration-color: #d4b702; font-weight: bold\">- Explore the Bale Mountains for wildlife watching, especially endemic species, in conservation-friendly ways</span>\n",
              "<span style=\"color: #d4b702; text-decoration-color: #d4b702; font-weight: bold\">- Participate in community coffee ceremonies to support local farmers and experience Ethiopian culture</span>\n",
              "<span style=\"color: #d4b702; text-decoration-color: #d4b702; font-weight: bold\">- Choose local transportation options like cycling or walking tours to discover historic Addis Ababa sustainably</span>\n",
              "\n",
              "<span style=\"color: #d4b702; text-decoration-color: #d4b702; font-weight: bold\">Eco-Friendly Tips:</span>\n",
              "<span style=\"color: #d4b702; text-decoration-color: #d4b702; font-weight: bold\">- Support local communities through cultural experiences and tourism</span>\n",
              "<span style=\"color: #d4b702; text-decoration-color: #d4b702; font-weight: bold\">- Choose accommodations that use local materials and implement sustainable practices</span>\n",
              "<span style=\"color: #d4b702; text-decoration-color: #d4b702; font-weight: bold\">- Engage in conservation-friendly wildlife viewing</span>\n",
              "<span style=\"color: #d4b702; text-decoration-color: #d4b702; font-weight: bold\">- Opt for low-impact transportation methods</span>\n",
              "<span style=\"color: #d4b702; text-decoration-color: #d4b702; font-weight: bold\">- Respect local cultures and traditions while traveling</span>\n",
              "\n",
              "</pre>\n"
            ]
          },
          "metadata": {}
        },
        {
          "output_type": "display_data",
          "data": {
            "text/plain": [
              "\u001b[2m[Step 5: Duration 2.05 seconds| Input tokens: 13,658 | Output tokens: 484]\u001b[0m\n"
            ],
            "text/html": [
              "<pre style=\"white-space:pre;overflow-x:auto;line-height:normal;font-family:Menlo,'DejaVu Sans Mono',consolas,'Courier New',monospace\"><span style=\"color: #7f7f7f; text-decoration-color: #7f7f7f\">[Step 5: Duration 2.05 seconds| Input tokens: 13,658 | Output tokens: 484]</span>\n",
              "</pre>\n"
            ]
          },
          "metadata": {}
        },
        {
          "output_type": "stream",
          "name": "stdout",
          "text": [
            "Custom Knowledge Base Response:\n",
            " \n",
            "Sustainable Travel Ideas for Ethiopia:\n",
            "\n",
            "Places to Stay:\n",
            "- Eco-lodges near Lake Tana that focus on local materials and reduced environmental impact\n",
            "- Sustainable accommodations in and around major national parks\n",
            "\n",
            "Activities:\n",
            "- Visit Simien Mountains National Park for sustainable trekking and breathtaking landscapes\n",
            "- Explore the Bale Mountains for wildlife watching, especially endemic species, in conservation-friendly ways\n",
            "- Participate in community coffee ceremonies to support local farmers and experience Ethiopian culture\n",
            "- Choose local transportation options like cycling or walking tours to discover historic Addis Ababa sustainably\n",
            "\n",
            "Eco-Friendly Tips:\n",
            "- Support local communities through cultural experiences and tourism\n",
            "- Choose accommodations that use local materials and implement sustainable practices\n",
            "- Engage in conservation-friendly wildlife viewing\n",
            "- Opt for low-impact transportation methods\n",
            "- Respect local cultures and traditions while traveling\n",
            "\n"
          ]
        }
      ],
      "source": [
        "from google.colab import userdata\n",
        "\n",
        "class TravelPlanningRetrieverTool(Tool):\n",
        "    name = \"travel_planning_retriever\"\n",
        "    description = (\n",
        "        \"Uses semantic search to retrieve sustainable travel ideas for Ethiopia—nature, eco-lodges, local experiences.\"\n",
        "    )\n",
        "    inputs = {\n",
        "        \"query\": {\n",
        "            \"type\": \"string\",\n",
        "            \"description\": (\n",
        "                \"A query about planning an eco-friendly trip to Ethiopia, such as places to visit, activities, or tips.\"\n",
        "            ),\n",
        "        }\n",
        "    }\n",
        "    output_type = \"string\"\n",
        "\n",
        "    def __init__(self, docs, **kwargs):\n",
        "        super().__init__(**kwargs)\n",
        "        self.retriever = BM25Retriever.from_documents(docs, k=5)\n",
        "\n",
        "    def forward(self, query: str) -> str:\n",
        "        assert isinstance(query, str), \"Your search query must be a string\"\n",
        "        docs = self.retriever.invoke(query)\n",
        "        return \"\\nRetrieved travel ideas:\\n\" + \"\".join(\n",
        "            [f\"\\n\\n===== Idea {i} =====\\n\" + doc.page_content for i, doc in enumerate(docs)]\n",
        "        )\n",
        "\n",
        "# Custom eco-friendly travel ideas for Ethiopia\n",
        "travel_ideas = [\n",
        "    {\n",
        "        \"text\": \"Visit Simien Mountains National Park for sustainable trekking and breathtaking landscapes.\",\n",
        "        \"source\": \"Nature Reserves\",\n",
        "    },\n",
        "    {\n",
        "        \"text\": \"Stay at eco-lodges near Lake Tana that focus on local materials and reduced environmental impact.\",\n",
        "        \"source\": \"Eco-Lodges\",\n",
        "    },\n",
        "    {\n",
        "        \"text\": \"Participate in community coffee ceremonies to support local farmers and experience Ethiopian culture.\",\n",
        "        \"source\": \"Cultural Experiences\",\n",
        "    },\n",
        "    {\n",
        "        \"text\": \"Explore the Bale Mountains for wildlife watching, especially endemic species, in conservation-friendly ways.\",\n",
        "        \"source\": \"Wildlife & Conservation\",\n",
        "    },\n",
        "    {\n",
        "        \"text\": \"Choose local transportation options like cycling or walking tours to discover historic Addis Ababa sustainably.\",\n",
        "        \"source\": \"Sustainable Transport\",\n",
        "    },\n",
        "]\n",
        "\n",
        "source_docs = [\n",
        "    Document(page_content=doc[\"text\"], metadata={\"source\": doc[\"source\"]})\n",
        "    for doc in travel_ideas\n",
        "]\n",
        "\n",
        "text_splitter = RecursiveCharacterTextSplitter(\n",
        "    chunk_size=500,\n",
        "    chunk_overlap=50,\n",
        "    add_start_index=True,\n",
        "    strip_whitespace=True,\n",
        "    separators=[\"\\n\\n\", \"\\n\", \".\", \" \", \"\"],\n",
        ")\n",
        "docs_processed = text_splitter.split_documents(source_docs)\n",
        "\n",
        "travel_planning_retriever = TravelPlanningRetrieverTool(docs_processed)\n",
        "\n",
        "model = InferenceClientModel(model_id=\"Qwen/Qwen3-Coder-30B-A3B-Instruct\", provider=\"nebius\", api_key=userdata.get(\"HF_NEBIUS_API_KEY\"))\n",
        "\n",
        "agent = CodeAgent(\n",
        "    tools=[travel_planning_retriever],\n",
        "    model=model\n",
        ")\n",
        "\n",
        "response = agent.run(\n",
        "    \"Find sustainable travel ideas for visiting Ethiopia, including places to stay, activities, and eco-friendly tips.\"\n",
        ")\n",
        "print(\"Custom Knowledge Base Response:\\n\", response)"
      ]
    },
    {
      "cell_type": "markdown",
      "source": [
        "## Section 4: Prompt: Enhanced Retrieval Strategies\n",
        "\n",
        "In agentic RAG systems, the agent may:\n",
        " - Reformulate queries for better search matches\n",
        " - Decompose complex queries into sub-queries (e.g., separate 'places,' 'activities,' 'transport')\n",
        " - Expand queries to multiple phrasings for broader coverage\n",
        " - Rerank results using semantic similarity\n",
        " - Perform multi-step retrieval (first 'eco-lodges', then 'activities', then combine)\n",
        " - Integrate sources (web+custom)\n",
        " - Validate relevance and accuracy\n"
      ],
      "metadata": {
        "id": "uMENl0QaalSd"
      }
    }
  ],
  "metadata": {
    "colab": {
      "provenance": []
    },
    "kernelspec": {
      "display_name": "Python 3",
      "name": "python3"
    },
    "language_info": {
      "name": "python"
    }
  },
  "nbformat": 4,
  "nbformat_minor": 0
}